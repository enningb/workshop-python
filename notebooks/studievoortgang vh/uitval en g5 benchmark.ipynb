{
 "cells": [
  {
   "cell_type": "markdown",
   "metadata": {},
   "source": [
    "# Berekening uitval \n",
    "\n",
    "VH verspreidt csv-bestanden (flatfiles) met daarin detail informatie over studiesucces indicatoren. Die zijn handig om te benchmarken.\n",
    "\n",
    "Hieronder worden ze ingelezen en wordt een benchmark gedaan op uitval."
   ]
  },
  {
   "cell_type": "code",
   "execution_count": null,
   "metadata": {},
   "outputs": [],
   "source": [
    "import os\n",
    "import altair as alt\n",
    "\n",
    "\n",
    "#path = os.path.join(local_data, 'VerenigingHogescholen/2018/gegevensset 2018/flatfiles', 'voortgang_2018.csv')\n",
    "path = os.path.join(local_data, 'VerenigingHogescholen/2018/gegevensset 2018/flatfiles', 'uitval1_2018.csv')\n",
    "\n",
    "# inlezen data:\n",
    "df = pd.read_csv(path\n",
    "                , encoding='latin1'\n",
    "                , sep='|')\n"
   ]
  },
  {
   "cell_type": "code",
   "execution_count": null,
   "metadata": {},
   "outputs": [],
   "source": [
    "# hoe ziet de data eruit?\n",
    "df.head()"
   ]
  },
  {
   "cell_type": "markdown",
   "metadata": {},
   "source": [
    "## Filteren"
   ]
  },
  {
   "cell_type": "code",
   "execution_count": null,
   "metadata": {},
   "outputs": [],
   "source": [
    "# maak dataset voor Hogeschool Leiden:\n",
    "# een variabele met alle G5-brins:\n",
    "g5_brin = ['21RI','27UM', '22OJ' ,'28DN', '27PZ','25DW']\n",
    "\n",
    "# maak een aantal filters:\n",
    "filter_g5 = df.brin_actueel.isin(g5_brin)\n",
    "filter_bachelor = df.typeho=='ba'\n",
    "filter_voltijd = df.vorm == 'vt'\n",
    "filter_hoofdtype = df.inschr_type == '1. hoofdtype'\n",
    "filter_eerstetype = df.instr_type == \"1. eerstetype\"\n",
    "\n",
    "# filter de data zodat je alleen G5-data overhoud.\n",
    "g5_data = df[(filter_g5) &\\\n",
    "              (filter_bachelor) &\\\n",
    "              (filter_voltijd) &\\\n",
    "              (filter_hoofdtype) &\\\n",
    "              (filter_eerstetype)].copy()"
   ]
  },
  {
   "cell_type": "markdown",
   "metadata": {},
   "source": [
    "# Groeperen/aggregeren\n",
    "\n",
    "De data bevat ruwe data, maar nog geen percentages oid per opleiding. Die gaan we hieronder maken."
   ]
  },
  {
   "cell_type": "code",
   "execution_count": null,
   "metadata": {},
   "outputs": [],
   "source": [
    "groupers = ['inschr_jaar','hogeschool','opleiding'] # <- he Zuke, is dit voor jou eigenlijk wel de bedoelen?\n",
    "\n",
    "def get_uitval(subdf):\n",
    "    \"\"\"Berekent uitval door aantal uitvallers te delen door instroom.\"\"\"\n",
    "    uitval_aantal = subdf.uitval.sum()\n",
    "    totaal_aantal = subdf.instroom.sum()\n",
    "    uitval = uitval_aantal / totaal_aantal\n",
    "    return uitval\n",
    "\n",
    "g5_benchmark = g5_data.groupby(groupers).apply(get_uitval).rename('UitvalNa1Jaar').reset_index()"
   ]
  },
  {
   "cell_type": "code",
   "execution_count": null,
   "metadata": {},
   "outputs": [],
   "source": [
    "# even kijken hoe de data er uit ziet:\n",
    "g5_benchmark.head()"
   ]
  },
  {
   "cell_type": "code",
   "execution_count": null,
   "metadata": {},
   "outputs": [],
   "source": [
    "# maak er eens een plaatje van:\n",
    "alt.Chart(g5_benchmark).mark_line().encode(\n",
    "    x='inschr_jaar'\n",
    "    , y=\"UitvalNa1Jaar\"\n",
    "    , color='hogeschool'\n",
    ")"
   ]
  },
  {
   "cell_type": "code",
   "execution_count": null,
   "metadata": {},
   "outputs": [],
   "source": [
    "# Hmm, hierboven ziet er niet goed uit. Nog een keer:\n",
    "alt.Chart(g5_benchmark).mark_line().encode(\n",
    "    x='inschr_jaar'\n",
    "    , y=\"UitvalNa1Jaar\"\n",
    "    , color='hogeschool'\n",
    ").facet(row='opleiding')"
   ]
  },
  {
   "cell_type": "markdown",
   "metadata": {},
   "source": [
    "# Wat hebben we eigenlijk gemeenschappelijk?\n",
    "\n",
    "In de lijst met benchmark-plaatjes hierboven zie je dat we veel opleidingen NIET gemeen hebben (dan zie je maar 1 lijn). Hoe zit dat eigenlijk?"
   ]
  },
  {
   "cell_type": "code",
   "execution_count": null,
   "metadata": {},
   "outputs": [],
   "source": [
    "# aantal verschillende opleidingen binnen de G5:\n",
    "g5_benchmark.opleiding.nunique()"
   ]
  },
  {
   "cell_type": "markdown",
   "metadata": {},
   "source": [
    "Om het aantal instellingen waar een opleiding aan wordt gegeven, tel je het aantal unieke scholen per opleiding:"
   ]
  },
  {
   "cell_type": "code",
   "execution_count": null,
   "metadata": {},
   "outputs": [],
   "source": [
    "opleiding_aantal_instellingen = g5_benchmark.groupby(['opleiding']).hogeschool.nunique().rename('AantalHogescholen').reset_index()\n",
    "\n",
    "opleiding_aantal_instellingen"
   ]
  },
  {
   "cell_type": "code",
   "execution_count": null,
   "metadata": {},
   "outputs": [],
   "source": [
    "opleiding_aantal_instellingen.AantalHogescholen.value_counts().sort_index()"
   ]
  },
  {
   "cell_type": "markdown",
   "metadata": {},
   "source": [
    "Hierboven zie je dus dat er 57 opleidingen zijn, die maar aan 1 hogeschool worden gegeven."
   ]
  },
  {
   "cell_type": "code",
   "execution_count": null,
   "metadata": {},
   "outputs": [],
   "source": [
    "(131-57)/131"
   ]
  },
  {
   "cell_type": "code",
   "execution_count": null,
   "metadata": {},
   "outputs": [],
   "source": [
    "opleiding_aantal_instellingen[opleiding_aantal_instellingen.AantalHogescholen > 3].opleiding.unique().tolist()"
   ]
  },
  {
   "cell_type": "code",
   "execution_count": null,
   "metadata": {},
   "outputs": [],
   "source": []
  },
  {
   "cell_type": "code",
   "execution_count": null,
   "metadata": {},
   "outputs": [],
   "source": [
    "gemeenschappelijke_opleidingen = opleiding_aantal_instellingen[opleiding_aantal_instellingen.AantalHogescholen > 1].opleiding.unique().tolist()"
   ]
  },
  {
   "cell_type": "code",
   "execution_count": null,
   "metadata": {},
   "outputs": [],
   "source": []
  },
  {
   "cell_type": "code",
   "execution_count": null,
   "metadata": {},
   "outputs": [],
   "source": [
    "g5_benchmark_gem_opl = g5_benchmark[g5_benchmark.opleiding.isin(gemeenschappelijke_opleidingen)]"
   ]
  },
  {
   "cell_type": "code",
   "execution_count": null,
   "metadata": {},
   "outputs": [],
   "source": [
    "# we pimpen het plaatje ook nog wat:\n",
    "alt.Chart(g5_benchmark_gem_opl).mark_line(point=True).encode(\n",
    "    x='inschr_jaar'\n",
    "    , y=\"UitvalNa1Jaar\"\n",
    "    , color='hogeschool'\n",
    "    , tooltip=['hogeschool','UitvalNa1Jaar']\n",
    ").facet(row='opleiding').interactive()"
   ]
  },
  {
   "cell_type": "code",
   "execution_count": null,
   "metadata": {},
   "outputs": [],
   "source": []
  }
 ],
 "metadata": {
  "kernelspec": {
   "display_name": "Python [conda env:analytics] *",
   "language": "python",
   "name": "conda-env-analytics-py"
  },
  "language_info": {
   "codemirror_mode": {
    "name": "ipython",
    "version": 3
   },
   "file_extension": ".py",
   "mimetype": "text/x-python",
   "name": "python",
   "nbconvert_exporter": "python",
   "pygments_lexer": "ipython3",
   "version": "3.6.9"
  }
 },
 "nbformat": 4,
 "nbformat_minor": 4
}
