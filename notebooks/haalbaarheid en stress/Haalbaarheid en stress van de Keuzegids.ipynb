{
 "cells": [
  {
   "cell_type": "markdown",
   "metadata": {},
   "source": [
    "# Het stress-dossier van Keuzegids\n",
    "\n",
    "\n",
    "<img align=\"right\" width=\"100\" height=\"100\" src=\"https://www.keuzegids.org/ol/gidsen/hbovt20/img/layout/logo.jpg\">\n",
    "\n",
    "\n",
    "\n",
    "\n",
    "Op 4 november 2019 publiceerde Keuzegids een [persbericht](https://keuzegids.nl/gestreste-student-haalt-gewoon-diploma/) waarin het stelde dat studenten aan de HvA en HL meer stress ervoeren dan studenten bij andere instellingen.\n",
    "Hieronder worden de cijfers zoals Keuzegids die op verzoek toestuurde gereproduceerd. Wat zijn dat eigenlijk voor cijfers? Waar komen de uitspraken over stress en studiesucces vandaan? "
   ]
  },
  {
   "cell_type": "markdown",
   "metadata": {},
   "source": [
    "## Waar gaat het over?\n",
    "Keuzegids heeft dit jaar een nieuw thema in het leven geroepen, 'haalbaarheid'. Het thema bestaat uit een aantal items, afkomstig uit een aantal andere thema's van de NSE. \n",
    "\n",
    "## Wat is haalbaarheid?\n",
    "Hieronder staan de items waaruit het thema 'haalbaarheid' is opgebouwd:\n",
    "\n",
    "1. De spreiding van de studielast over het studiejaar (thema studielast, Studielast_01)\n",
    "1. De haalbaarheid van deadlines (thema studielast, Studielast_02)\n",
    "1. De mogelijkheid om zonder vertraging de gewenste studie-onderdelen te volgen (thema studielast, Studielast_04)\n",
    "1. De studeerbaarheid van het studierooster (bijv. spreiding en tijdstippen) (thema studierooster, Studierooster_03)\n",
    "1. De informatie over jouw studievoortgang (thema informatievoorziening, Informatievoorziening_02)\n",
    "1. Het tijdig bekend maken van resultaten van toetsen en beoordelingen (thema informatievoorziening, Informatievoorziening_05)\n",
    "\n",
    "## Hoe wordt de stress-barometer gemaakt?\n",
    "Per instelling x opleiding wordt de score op het thema haalbaarheid berekend. Vervolgens wordt het gemiddelde van alle opleidingsscores berekend, zodat er een score per instelling ontstaat. Alleen instellingen met meer dan 15 opleidingen worden opgenomen in de ranglijst.\n",
    "\n",
    "## Aanpak\n",
    "Het maken van de ranglijst wordt opgeknipt in een paar stappen:\n",
    "\n",
    "1. ophalen en prepareren data\n",
    "1. toevoegen themascore 'haalbaarheid'\n",
    "1. filter op relevante records\n",
    "1. berekenen scores per instelling x opleiding\n",
    "1. berekenen scores per instelling"
   ]
  },
  {
   "cell_type": "markdown",
   "metadata": {},
   "source": [
    "## 1. ophalen en prepareren data"
   ]
  },
  {
   "cell_type": "code",
   "execution_count": null,
   "metadata": {},
   "outputs": [],
   "source": [
    "# importeer modules die we nodig hebben\n",
    "import altair as alt\n",
    "from altair import datum\n",
    "import pandas as pd\n",
    "import numpy as np\n",
    "import requests\n",
    "\n",
    "# een variabele met alle G5-brins:\n",
    "g5_brin = ['21RI','27UM', '22OJ' ,'28DN', '27PZ','25DW']"
   ]
  },
  {
   "cell_type": "code",
   "execution_count": null,
   "metadata": {},
   "outputs": [],
   "source": [
    "url = nse_data_url\n",
    "\n",
    "# haal de data op van een url:\n",
    "r = requests.get(url)\n",
    "# schrijf de data weg in een bestand op je harde schijf met de bestandsnaam hieronder:\n",
    "with open('nse_data.csv.zip', 'wb') as f:\n",
    "    f.write(r.content)"
   ]
  },
  {
   "cell_type": "code",
   "execution_count": null,
   "metadata": {},
   "outputs": [],
   "source": [
    "# Lees de data in een tabel:\n",
    "nse_data=pd.read_csv('nse_data.csv.zip')"
   ]
  },
  {
   "cell_type": "markdown",
   "metadata": {},
   "source": [
    "### Hoe ziet de data eruit? Klopt die een beetje?"
   ]
  },
  {
   "cell_type": "code",
   "execution_count": null,
   "metadata": {},
   "outputs": [],
   "source": [
    "len(nse_data)"
   ]
  },
  {
   "cell_type": "code",
   "execution_count": null,
   "metadata": {},
   "outputs": [],
   "source": [
    "nse_data.head()"
   ]
  },
  {
   "cell_type": "markdown",
   "metadata": {},
   "source": [
    "## 2. toevoegen themascore 'haalbaarheid'\n",
    "\n",
    "Per student wordt hieronder de themascore 'haalbaarheid' berekend. Dat is niet meer dan het gemiddelde van de scores op de items die horen bij de schaal haalbaarheid."
   ]
  },
  {
   "cell_type": "code",
   "execution_count": null,
   "metadata": {},
   "outputs": [],
   "source": [
    "# De items die tot de schaal horen in een list:\n",
    "\n",
    "haalbaarheid = [ 'Studielast_01'\n",
    "               , 'Studielast_02'\n",
    "               , 'Studielast_04'\n",
    "               , 'Studierooster_03'\n",
    "               , 'Informatievoorziening_02'\n",
    "               , 'Informatievoorziening_05']\n",
    "\n",
    "# Maak een themascore haalbaarheid:\n",
    "nse_data['Haalbaarheid'] = np.mean(nse_data[haalbaarheid], axis=1)"
   ]
  },
  {
   "cell_type": "markdown",
   "metadata": {},
   "source": [
    "## 3. filter relevante records\n",
    "We willen alleen oordelen van opleidingen die voldoen aan de volgende filters:\n",
    "1. Voltijd\n",
    "1. HBO\n",
    "1. Bachelor\n",
    "1. 2018\n",
    "1. Bekostigd\n",
    "1. Instellingen met meer dan 15 opleidingen"
   ]
  },
  {
   "cell_type": "code",
   "execution_count": null,
   "metadata": {},
   "outputs": [],
   "source": [
    "# Hieronder een functie die, als je er data aan geeft, \n",
    "# een lijst met brin nummers geeft die meer dan 15 opleidingen hebben.\n",
    "\n",
    "def get_brin_instellingen_met_meer_dan_15_opleidingen(data):\n",
    "    \"\"\"Lijst met brin-nummers van instellingen met meer dan\n",
    "    15 opleidingen\"\"\"\n",
    "    groupers = ['BrinActueel','BrinNaamActueel','Locatie']\n",
    "    aantal_opl_inst_vestiging = data.groupby(groupers).CrohoNaamActueel.nunique().rename('Aantal').reset_index()\n",
    "    aantal_opl_inst = aantal_opl_inst_vestiging.groupby(['BrinActueel','BrinNaamActueel']).Aantal.sum().reset_index()\n",
    "    brin_instellingen_meer_dan_15 = aantal_opl_inst[aantal_opl_inst.Aantal >= 15].BrinActueel.tolist()\n",
    "    \n",
    "    return brin_instellingen_meer_dan_15"
   ]
  },
  {
   "cell_type": "code",
   "execution_count": null,
   "metadata": {},
   "outputs": [],
   "source": [
    "def get_hbo_vt_2018(data):\n",
    "    \"\"\"Filtert data van hbo, vt, bachelors 2018, instellingen met meer dan 15 opleidingen.\"\"\"\n",
    "    \n",
    "    brin_nummers = get_brin_instellingen_met_meer_dan_15_opleidingen(nse_data)\n",
    "    \n",
    "    filter1 = data.Opleidingsvorm3 == 'Voltijd'\n",
    "    filter2 = data.SoortHo == 'HBO'\n",
    "    filter3 = data.BaMa == 'Bachelor'\n",
    "    filter4 = data.Jaar == 2018\n",
    "    filter5 = data.Bekostiging=='Bekostigd'\n",
    "    filter6 = data.BrinActueel.isin(brin_nummers)\n",
    "\n",
    "    hbo_vt_ba = data[(filter1) & (filter2) & (filter3) & (filter4) & (filter5) & (filter6)].copy()\n",
    "    \n",
    "    return hbo_vt_ba\n",
    "\n",
    "hbo_vt_2018 = get_hbo_vt_2018(nse_data)"
   ]
  },
  {
   "cell_type": "code",
   "execution_count": null,
   "metadata": {},
   "outputs": [],
   "source": [
    "def get_hsleiden_hbo_vt_2018(data):\n",
    "    \"\"\"Filtert op Hsleiden\"\"\"\n",
    "\n",
    "    hsleiden_ruw = data[(data.BrinActueel=='21RI')].copy()\n",
    "    \n",
    "    return hsleiden_ruw\n",
    "\n",
    "hsleiden2018 = get_hsleiden_hbo_vt_2018(hbo_vt_2018)"
   ]
  },
  {
   "cell_type": "markdown",
   "metadata": {},
   "source": [
    "## 4. berekenen scores per instelling x opleiding"
   ]
  },
  {
   "cell_type": "code",
   "execution_count": null,
   "metadata": {},
   "outputs": [],
   "source": [
    "groupers = ['BrinNaamActueel','Locatie','CrohoNaamActueel']\n",
    "\n",
    "#score_inst_vst_opl = hbo_vt_2018.groupby(groupers).apply(lambda x: indicators(x, columns=['Haalbaarheid',])).reset_index()"
   ]
  },
  {
   "cell_type": "code",
   "execution_count": null,
   "metadata": {},
   "outputs": [],
   "source": [
    "score_inst_vst_opl = hbo_vt_2018.groupby(groupers).Haalbaarheid.mean().rename('Score').reset_index()"
   ]
  },
  {
   "cell_type": "markdown",
   "metadata": {},
   "source": [
    "## 5. berekenen scores per instelling"
   ]
  },
  {
   "cell_type": "code",
   "execution_count": null,
   "metadata": {},
   "outputs": [],
   "source": [
    "ranglijst = score_inst_vst_opl.groupby(['BrinNaamActueel',]).mean().reset_index().sort_values(by=['Score'], ascending=False).round(decimals=2)"
   ]
  },
  {
   "cell_type": "code",
   "execution_count": null,
   "metadata": {},
   "outputs": [],
   "source": []
  },
  {
   "cell_type": "code",
   "execution_count": null,
   "metadata": {},
   "outputs": [],
   "source": [
    "bars = alt.Chart(ranglijst).mark_bar().encode(\n",
    "    y=alt.Y('BrinNaamActueel', title=None, sort=alt.EncodingSortField(field='Score'))\n",
    "    , x='Score'\n",
    ")\n",
    "\n",
    "text = alt.Chart(ranglijst).mark_text(dx=14).encode(\n",
    "    y=alt.Y('BrinNaamActueel', title=None, sort=alt.EncodingSortField(field='Score'))\n",
    "    , x='Score'\n",
    "    , text='Score'\n",
    ")\n",
    "\n",
    "bars + text"
   ]
  },
  {
   "cell_type": "code",
   "execution_count": null,
   "metadata": {},
   "outputs": [],
   "source": [
    "cols = haalbaarheid + ['Haalbaarheid']\n",
    "\n",
    "scores_per_instelling = hbo_vt_2018.groupby(['BrinNaamActueel','BrinActueel']).mean()[cols].reset_index()"
   ]
  },
  {
   "cell_type": "code",
   "execution_count": null,
   "metadata": {},
   "outputs": [],
   "source": [
    "long = pd.melt(scores_per_instelling\n",
    "        , id_vars=['BrinNaamActueel','BrinActueel']\n",
    "         , var_name='Variabele'\n",
    "         , value_name='Score')"
   ]
  },
  {
   "cell_type": "code",
   "execution_count": null,
   "metadata": {},
   "outputs": [],
   "source": [
    "filter_g5 = long.BrinActueel.isin(g5_brin)\n",
    "filter_haalbaarheid=long.Variabele!='Haalbaarheid'\n",
    "alt.Chart(long[(filter_g5) & (filter_haalbaarheid)],width=180).mark_bar().encode(\n",
    "      y='Score'\n",
    "    , x=alt.X('Variabele', sort=alt.EncodingSortField(field='Variabele'))).facet(column='BrinNaamActueel')\n"
   ]
  },
  {
   "cell_type": "markdown",
   "metadata": {},
   "source": [
    "## Controle\n",
    "\n",
    "We kijken op een aantal manieren of de manier waarop Keuzegids de schaal maakt hout snijdt. Hieronder een correlatiematrix van alle items.\n",
    "\n",
    "### Correlatiematrix"
   ]
  },
  {
   "cell_type": "code",
   "execution_count": null,
   "metadata": {},
   "outputs": [],
   "source": [
    "hbo_vt_2018[haalbaarheid].corr()"
   ]
  },
  {
   "cell_type": "markdown",
   "metadata": {},
   "source": [
    "## Cronbach's alpha\n",
    "Keuzegids maakt een eigen schaal. Maar is het ook een schaal? Cronbach's alpha kan ons helpen een indicatie krijgen van de betrouwbaarheid van de schaal/"
   ]
  },
  {
   "cell_type": "code",
   "execution_count": null,
   "metadata": {},
   "outputs": [],
   "source": [
    "import numpy\n",
    "def cronbach(itemscores):\n",
    "    itemscores = numpy.asarray(itemscores)\n",
    "    itemvars = itemscores.var(axis=1, ddof=1)\n",
    "    tscores = itemscores.sum(axis=0)\n",
    "    nitems = len(itemscores)\n",
    "\n",
    "    return nitems / (nitems-1.) * (1 - itemvars.sum() / tscores.var(ddof=1))"
   ]
  },
  {
   "cell_type": "code",
   "execution_count": null,
   "metadata": {},
   "outputs": [],
   "source": [
    "def get_itemscores(data, items):\n",
    "    \"\"\"Maakt een lijst van lijsten. Iedere lijst zijn de scores op een item, missings\n",
    "    worden opgevuld met het gemiddelde.\"\"\"\n",
    "    itemscores = []\n",
    "    data = data[items].dropna()\n",
    "    for item in items:\n",
    "        itemscores_filled = data[item].fillna(data[item].mean()).tolist()\n",
    "        itemscores.append(itemscores_filled)\n",
    "    return itemscores\n",
    "    \n",
    "itemscores = get_itemscores(hbo_vt_2018, haalbaarheid)"
   ]
  },
  {
   "cell_type": "code",
   "execution_count": null,
   "metadata": {},
   "outputs": [],
   "source": [
    "cronbach(itemscores)"
   ]
  },
  {
   "cell_type": "markdown",
   "metadata": {},
   "source": [
    "Met een cronbach's alpha van 0,81 kan je zeggen dat de schaal betrouwbaarheid is. De items hangen dus wel voldoende met elkaar samen."
   ]
  },
  {
   "cell_type": "markdown",
   "metadata": {},
   "source": [
    "### Maar zijn het reeele verschillen?"
   ]
  },
  {
   "cell_type": "code",
   "execution_count": null,
   "metadata": {},
   "outputs": [],
   "source": [
    "from statsmodels.stats.multicomp import pairwise_tukeyhsd\n",
    "import scipy.stats as stats\n",
    "\n",
    "tukey = pairwise_tukeyhsd(endog=hbo_vt_2018.dropna(subset=['Haalbaarheid']).Haalbaarheid,     # Data\n",
    "                          groups=hbo_vt_2018.dropna(subset=['Haalbaarheid'])['BrinNaamActueel'],   # Groups\n",
    "                          alpha=0.05)          # Significance level\n",
    "\n",
    "tk = tukey.plot_simultaneous()    # Plot group confidence intervals\n",
    "\n",
    "tukey.summary()"
   ]
  },
  {
   "cell_type": "code",
   "execution_count": null,
   "metadata": {},
   "outputs": [],
   "source": []
  },
  {
   "cell_type": "code",
   "execution_count": null,
   "metadata": {},
   "outputs": [],
   "source": []
  }
 ],
 "metadata": {
  "kernelspec": {
   "display_name": "Python [conda env:analytics] *",
   "language": "python",
   "name": "conda-env-analytics-py"
  },
  "language_info": {
   "codemirror_mode": {
    "name": "ipython",
    "version": 3
   },
   "file_extension": ".py",
   "mimetype": "text/x-python",
   "name": "python",
   "nbconvert_exporter": "python",
   "pygments_lexer": "ipython3",
   "version": "3.6.9"
  }
 },
 "nbformat": 4,
 "nbformat_minor": 4
}
