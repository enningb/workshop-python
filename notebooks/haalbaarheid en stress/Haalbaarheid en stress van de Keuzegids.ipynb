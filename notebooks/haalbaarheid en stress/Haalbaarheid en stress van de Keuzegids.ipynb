{
 "cells": [
  {
   "cell_type": "markdown",
   "metadata": {},
   "source": [
    "# Het stress-dossier van Keuzegids\n",
    "\n",
    "\n",
    "<img align=\"right\" width=\"100\" height=\"100\" src=\"https://www.keuzegids.org/ol/gidsen/hbovt20/img/layout/logo.jpg\">\n",
    "\n",
    "\n",
    "\n",
    "\n",
    "Op 4 november 2019 publiceerde Keuzegids een [persbericht](https://keuzegids.nl/gestreste-student-haalt-gewoon-diploma/) waarin het stelde dat studenten aan de HvA en HL meer stress ervoeren dan studenten bij andere instellingen.\n",
    "Hieronder worden de cijfers zoals Keuzegids die op verzoek toestuurde gereproduceerd. Wat zijn dat eigenlijk voor cijfers? Waar komen de uitspraken over stress en studiesucces vandaan? "
   ]
  },
  {
   "cell_type": "markdown",
   "metadata": {},
   "source": [
    "## Waar gaat het over?\n",
    "\n",
    "Keuzegids heeft dit jaar een nieuw thema in het leven geroepen, 'haalbaarheid'. Het thema bestaat uit een aantal items, afkomstig uit een aantal andere thema's. Hieronder staan de items waaruit het thema 'haalbaarheid' is opgebouwd:\n",
    "\n",
    "1. De spreiding van de studielast over het studiejaar (thema studielast, Studielast_01)\n",
    "1. De haalbaarheid van deadlines (thema studielast, Studielast_02)\n",
    "1. De mogelijkheid om zonder vertraging de gewenste studie-onderdelen te volgen (thema studielast, Studielast_04)\n",
    "1. De studeerbaarheid van het studierooster (bijv. spreiding en tijdstippen) (thema studierooster, Studierooster_03)\n",
    "1. De informatie over jouw studievoortgang (thema informatievoorziening, Informatievoorziening_02)\n",
    "1. Het tijdig bekend maken van resultaten van toetsen en beoordelingen (thema informatievoorziening, Informatievoorziening_05)\n",
    "\n",
    "Per opleiding wordt de score op het thema berekend. Vervolgens wordt het gemiddelde van alle scores berekend, zodat er een score per instelling ontstaat. "
   ]
  },
  {
   "cell_type": "markdown",
   "metadata": {},
   "source": [
    "## Inlezen en prepareren data"
   ]
  },
  {
   "cell_type": "code",
   "execution_count": 6,
   "metadata": {},
   "outputs": [],
   "source": [
    "import altair as alt\n",
    "from altair import datum\n",
    "import pandas as pd\n",
    "import numpy as np\n",
    "import requests"
   ]
  },
  {
   "cell_type": "code",
   "execution_count": 25,
   "metadata": {},
   "outputs": [],
   "source": [
    "url = nse_data_url\n",
    "\n",
    "g5_brin = ['21RI','27UM', '22OJ' ,'28DN', '27PZ','25DW']\n",
    "\n",
    "# haal de data op:\n",
    "r = requests.get(url)\n",
    "# schrijf de data weg in een bestand:\n",
    "with open('nse_data.csv.zip', 'wb') as f:\n",
    "    f.write(r.content)"
   ]
  },
  {
   "cell_type": "code",
   "execution_count": 8,
   "metadata": {},
   "outputs": [
    {
     "name": "stderr",
     "output_type": "stream",
     "text": [
      "/home/bram/anaconda3/envs/analytics/lib/python3.6/site-packages/IPython/core/interactiveshell.py:3058: DtypeWarning: Columns (20) have mixed types. Specify dtype option on import or set low_memory=False.\n",
      "  interactivity=interactivity, compiler=compiler, result=result)\n"
     ]
    }
   ],
   "source": [
    "# Lees de data in een tabel:\n",
    "nse_data=pd.read_csv('nse_data.csv.zip')"
   ]
  },
  {
   "cell_type": "markdown",
   "metadata": {},
   "source": [
    "## Maak themascore Haalbaarheid per student"
   ]
  },
  {
   "cell_type": "code",
   "execution_count": 16,
   "metadata": {},
   "outputs": [],
   "source": [
    "haalbaarheid = [ 'Studielast_01'\n",
    "               , 'Studielast_02'\n",
    "               , 'Studielast_04'\n",
    "               , 'Studierooster_03'\n",
    "               , 'Informatievoorziening_02'\n",
    "               , 'Informatievoorziening_05']\n",
    "\n",
    "# Maak een themascore haalbaarheid:\n",
    "nse_data['Haalbaarheid'] = np.mean(nse_data[haalbaarheid], axis=1)"
   ]
  },
  {
   "cell_type": "markdown",
   "metadata": {},
   "source": [
    "## Filter Benchmarkbestand\n",
    "We willen alleen oordelen van opleidingen die voldoen aan de volgende filters:\n",
    "1. Voltijd\n",
    "1. HBO\n",
    "1. Bachelor\n",
    "1. 2018\n",
    "1. Bekostigd\n",
    "1. Instellingen met meer dan 15 opleidingen"
   ]
  },
  {
   "cell_type": "code",
   "execution_count": 17,
   "metadata": {},
   "outputs": [],
   "source": [
    "def get_brin_instellingen_met_meer_dan_15_opleidingen(data):\n",
    "    \"\"\"Lijst met brin-nummers van instellingen met meer dan\n",
    "    15 opleidingen\"\"\"\n",
    "    groupers = ['BrinActueel','BrinNaamActueel','Locatie']\n",
    "    aantal_opl_inst_vestiging = data.groupby(groupers).CrohoNaamActueel.nunique().rename('Aantal').reset_index()\n",
    "    aantal_opl_inst = aantal_opl_inst_vestiging.groupby(['BrinActueel','BrinNaamActueel']).Aantal.sum().reset_index()\n",
    "    brin_instellingen_meer_dan_15 = aantal_opl_inst[aantal_opl_inst.Aantal >= 15].BrinActueel.tolist()\n",
    "    return brin_instellingen_meer_dan_15"
   ]
  },
  {
   "cell_type": "code",
   "execution_count": 18,
   "metadata": {},
   "outputs": [],
   "source": [
    "def get_hbo_vt_2018(data):\n",
    "    \"\"\"Filtert data van hbo, vt, bachelors 2018, instellingen met meer dan 15 opleidingen.\"\"\"\n",
    "    \n",
    "    brin_nummers = get_brin_instellingen_met_meer_dan_15_opleidingen(nse_data)\n",
    "    \n",
    "    filter1 = data.Opleidingsvorm3 == 'Voltijd'\n",
    "    filter2 = data.SoortHo == 'HBO'\n",
    "    filter3 = data.BaMa == 'Bachelor'\n",
    "    filter4 = data.Jaar == 2018\n",
    "    filter5 = data.Bekostiging=='Bekostigd'\n",
    "    filter6 = data.BrinActueel.isin(brin_nummers)\n",
    "\n",
    "    hbo_vt_ba = data[(filter1) & (filter2) & (filter3) & (filter4) & (filter5) & (filter6)].copy()\n",
    "    \n",
    "    return hbo_vt_ba\n",
    "\n",
    "hbo_vt_2018 = get_hbo_vt_2018(nse_data)"
   ]
  },
  {
   "cell_type": "code",
   "execution_count": 19,
   "metadata": {},
   "outputs": [],
   "source": [
    "def get_hsleiden_hbo_vt_2018(data):\n",
    "    \"\"\"Filtert op Hsleiden\"\"\"\n",
    "\n",
    "    hsleiden_ruw = data[(data.BrinActueel=='21RI')].copy()\n",
    "    \n",
    "    return hsleiden_ruw\n",
    "\n",
    "hsleiden2018 = get_hsleiden_hbo_vt_2018(hbo_vt_2018)"
   ]
  },
  {
   "cell_type": "markdown",
   "metadata": {},
   "source": [
    "## Bereken ranglijst van Keuzegids"
   ]
  },
  {
   "cell_type": "code",
   "execution_count": 20,
   "metadata": {},
   "outputs": [],
   "source": [
    "groupers = ['BrinNaamActueel','Locatie','CrohoNaamActueel']\n",
    "\n",
    "#score_inst_vst_opl = hbo_vt_2018.groupby(groupers).apply(lambda x: indicators(x, columns=['Haalbaarheid',])).reset_index()"
   ]
  },
  {
   "cell_type": "code",
   "execution_count": 21,
   "metadata": {},
   "outputs": [],
   "source": [
    "score_inst_vst_opl = hbo_vt_2018.groupby(groupers).Haalbaarheid.mean().rename('Score').reset_index()"
   ]
  },
  {
   "cell_type": "code",
   "execution_count": 22,
   "metadata": {},
   "outputs": [],
   "source": [
    "ranglijst = score_inst_vst_opl.groupby(['BrinNaamActueel',]).mean().reset_index().sort_values(by=['Score'], ascending=False).round(decimals=2)"
   ]
  },
  {
   "cell_type": "code",
   "execution_count": 23,
   "metadata": {},
   "outputs": [
    {
     "data": {
      "text/html": [
       "<div>\n",
       "<style scoped>\n",
       "    .dataframe tbody tr th:only-of-type {\n",
       "        vertical-align: middle;\n",
       "    }\n",
       "\n",
       "    .dataframe tbody tr th {\n",
       "        vertical-align: top;\n",
       "    }\n",
       "\n",
       "    .dataframe thead th {\n",
       "        text-align: right;\n",
       "    }\n",
       "</style>\n",
       "<table border=\"1\" class=\"dataframe\">\n",
       "  <thead>\n",
       "    <tr style=\"text-align: right;\">\n",
       "      <th></th>\n",
       "      <th>Score</th>\n",
       "    </tr>\n",
       "    <tr>\n",
       "      <th>BrinNaamActueel</th>\n",
       "      <th></th>\n",
       "    </tr>\n",
       "  </thead>\n",
       "  <tbody>\n",
       "    <tr>\n",
       "      <td>HZ University of Applied Sciences</td>\n",
       "      <td>3.64</td>\n",
       "    </tr>\n",
       "    <tr>\n",
       "      <td>Stenden Hogeschool</td>\n",
       "      <td>3.62</td>\n",
       "    </tr>\n",
       "    <tr>\n",
       "      <td>Avans Hogeschool</td>\n",
       "      <td>3.62</td>\n",
       "    </tr>\n",
       "    <tr>\n",
       "      <td>NHTV internationale hogeschool Breda</td>\n",
       "      <td>3.61</td>\n",
       "    </tr>\n",
       "    <tr>\n",
       "      <td>NHL Hogeschool</td>\n",
       "      <td>3.61</td>\n",
       "    </tr>\n",
       "    <tr>\n",
       "      <td>Hanzehogeschool Groningen</td>\n",
       "      <td>3.60</td>\n",
       "    </tr>\n",
       "    <tr>\n",
       "      <td>ArtEZ</td>\n",
       "      <td>3.56</td>\n",
       "    </tr>\n",
       "    <tr>\n",
       "      <td>Fontys Hogescholen</td>\n",
       "      <td>3.53</td>\n",
       "    </tr>\n",
       "    <tr>\n",
       "      <td>Christelijke Hogeschool Windesheim</td>\n",
       "      <td>3.53</td>\n",
       "    </tr>\n",
       "    <tr>\n",
       "      <td>Saxion Hogeschool</td>\n",
       "      <td>3.52</td>\n",
       "    </tr>\n",
       "    <tr>\n",
       "      <td>Hogeschool van Arnhem en Nijmegen</td>\n",
       "      <td>3.46</td>\n",
       "    </tr>\n",
       "    <tr>\n",
       "      <td>Zuyd Hogeschool</td>\n",
       "      <td>3.45</td>\n",
       "    </tr>\n",
       "    <tr>\n",
       "      <td>Aeres Hogeschool</td>\n",
       "      <td>3.44</td>\n",
       "    </tr>\n",
       "    <tr>\n",
       "      <td>Hogeschool INHOLLAND</td>\n",
       "      <td>3.39</td>\n",
       "    </tr>\n",
       "    <tr>\n",
       "      <td>Hogeschool Van Hall Larenstein</td>\n",
       "      <td>3.39</td>\n",
       "    </tr>\n",
       "    <tr>\n",
       "      <td>Hogeschool Rotterdam</td>\n",
       "      <td>3.38</td>\n",
       "    </tr>\n",
       "    <tr>\n",
       "      <td>Hogeschool Utrecht</td>\n",
       "      <td>3.36</td>\n",
       "    </tr>\n",
       "    <tr>\n",
       "      <td>De Haagse Hogeschool</td>\n",
       "      <td>3.35</td>\n",
       "    </tr>\n",
       "    <tr>\n",
       "      <td>Hogeschool van Amsterdam</td>\n",
       "      <td>3.32</td>\n",
       "    </tr>\n",
       "    <tr>\n",
       "      <td>Hogeschool Leiden</td>\n",
       "      <td>3.29</td>\n",
       "    </tr>\n",
       "  </tbody>\n",
       "</table>\n",
       "</div>"
      ],
      "text/plain": [
       "                                      Score\n",
       "BrinNaamActueel                            \n",
       "HZ University of Applied Sciences      3.64\n",
       "Stenden Hogeschool                     3.62\n",
       "Avans Hogeschool                       3.62\n",
       "NHTV internationale hogeschool Breda   3.61\n",
       "NHL Hogeschool                         3.61\n",
       "Hanzehogeschool Groningen              3.60\n",
       "ArtEZ                                  3.56\n",
       "Fontys Hogescholen                     3.53\n",
       "Christelijke Hogeschool Windesheim     3.53\n",
       "Saxion Hogeschool                      3.52\n",
       "Hogeschool van Arnhem en Nijmegen      3.46\n",
       "Zuyd Hogeschool                        3.45\n",
       "Aeres Hogeschool                       3.44\n",
       "Hogeschool INHOLLAND                   3.39\n",
       "Hogeschool Van Hall Larenstein         3.39\n",
       "Hogeschool Rotterdam                   3.38\n",
       "Hogeschool Utrecht                     3.36\n",
       "De Haagse Hogeschool                   3.35\n",
       "Hogeschool van Amsterdam               3.32\n",
       "Hogeschool Leiden                      3.29"
      ]
     },
     "execution_count": 23,
     "metadata": {},
     "output_type": "execute_result"
    }
   ],
   "source": [
    "ranglijst.set_index('BrinNaamActueel')"
   ]
  },
  {
   "cell_type": "code",
   "execution_count": 12,
   "metadata": {},
   "outputs": [
    {
     "data": {
      "application/vnd.vegalite.v3+json": {
       "$schema": "https://vega.github.io/schema/vega-lite/v3.4.0.json",
       "config": {
        "mark": {
         "tooltip": null
        },
        "view": {
         "height": 300,
         "width": 400
        }
       },
       "data": {
        "name": "data-0b4a794b37661e964242f634a83b20ec"
       },
       "datasets": {
        "data-0b4a794b37661e964242f634a83b20ec": [
         {
          "BrinNaamActueel": "HZ University of Applied Sciences",
          "Score": 3.64
         },
         {
          "BrinNaamActueel": "Stenden Hogeschool",
          "Score": 3.62
         },
         {
          "BrinNaamActueel": "Avans Hogeschool",
          "Score": 3.62
         },
         {
          "BrinNaamActueel": "NHTV internationale hogeschool Breda",
          "Score": 3.61
         },
         {
          "BrinNaamActueel": "NHL Hogeschool",
          "Score": 3.61
         },
         {
          "BrinNaamActueel": "Hanzehogeschool Groningen",
          "Score": 3.6
         },
         {
          "BrinNaamActueel": "ArtEZ",
          "Score": 3.56
         },
         {
          "BrinNaamActueel": "Fontys Hogescholen",
          "Score": 3.53
         },
         {
          "BrinNaamActueel": "Christelijke Hogeschool Windesheim",
          "Score": 3.53
         },
         {
          "BrinNaamActueel": "Saxion Hogeschool",
          "Score": 3.52
         },
         {
          "BrinNaamActueel": "Hogeschool van Arnhem en Nijmegen",
          "Score": 3.46
         },
         {
          "BrinNaamActueel": "Zuyd Hogeschool",
          "Score": 3.45
         },
         {
          "BrinNaamActueel": "Aeres Hogeschool",
          "Score": 3.44
         },
         {
          "BrinNaamActueel": "Hogeschool INHOLLAND",
          "Score": 3.39
         },
         {
          "BrinNaamActueel": "Hogeschool Van Hall Larenstein",
          "Score": 3.39
         },
         {
          "BrinNaamActueel": "Hogeschool Rotterdam",
          "Score": 3.38
         },
         {
          "BrinNaamActueel": "Hogeschool Utrecht",
          "Score": 3.36
         },
         {
          "BrinNaamActueel": "De Haagse Hogeschool",
          "Score": 3.35
         },
         {
          "BrinNaamActueel": "Hogeschool van Amsterdam",
          "Score": 3.32
         },
         {
          "BrinNaamActueel": "Hogeschool Leiden",
          "Score": 3.29
         }
        ]
       },
       "layer": [
        {
         "encoding": {
          "x": {
           "field": "Score",
           "type": "quantitative"
          },
          "y": {
           "field": "BrinNaamActueel",
           "sort": {
            "field": "Score"
           },
           "title": null,
           "type": "nominal"
          }
         },
         "mark": "bar"
        },
        {
         "encoding": {
          "text": {
           "field": "Score",
           "type": "quantitative"
          },
          "x": {
           "field": "Score",
           "type": "quantitative"
          },
          "y": {
           "field": "BrinNaamActueel",
           "sort": {
            "field": "Score"
           },
           "title": null,
           "type": "nominal"
          }
         },
         "mark": {
          "dx": 14,
          "type": "text"
         }
        }
       ]
      },
      "image/png": "[encoded data removed]",
      "text/plain": [
       "<VegaLite 3 object>\n",
       "\n",
       "If you see this message, it means the renderer has not been properly enabled\n",
       "for the frontend that you are using. For more information, see\n",
       "https://altair-viz.github.io/user_guide/troubleshooting.html\n"
      ]
     },
     "execution_count": 12,
     "metadata": {},
     "output_type": "execute_result"
    }
   ],
   "source": [
    "bars = alt.Chart(ranglijst).mark_bar().encode(\n",
    "    y=alt.Y('BrinNaamActueel', title=None, sort=alt.EncodingSortField(field='Score'))\n",
    "    , x='Score'\n",
    ")\n",
    "\n",
    "text = alt.Chart(ranglijst).mark_text(dx=14).encode(\n",
    "    y=alt.Y('BrinNaamActueel', title=None, sort=alt.EncodingSortField(field='Score'))\n",
    "    , x='Score'\n",
    "    , text='Score'\n",
    ")\n",
    "\n",
    "bars + text"
   ]
  },
  {
   "cell_type": "code",
   "execution_count": 26,
   "metadata": {},
   "outputs": [],
   "source": [
    "cols = haalbaarheid + ['Haalbaarheid']\n",
    "\n",
    "scores_per_instelling = hbo_vt_2018.groupby(['BrinNaamActueel','BrinActueel']).mean()[cols].reset_index()"
   ]
  },
  {
   "cell_type": "code",
   "execution_count": 27,
   "metadata": {},
   "outputs": [],
   "source": [
    "long = pd.melt(scores_per_instelling\n",
    "        , id_vars=['BrinNaamActueel','BrinActueel']\n",
    "         , var_name='Variabele'\n",
    "         , value_name='Score')"
   ]
  },
  {
   "cell_type": "code",
   "execution_count": 37,
   "metadata": {},
   "outputs": [
    {
     "data": {
      "application/vnd.vegalite.v3+json": {
       "$schema": "https://vega.github.io/schema/vega-lite/v3.4.0.json",
       "config": {
        "mark": {
         "tooltip": null
        },
        "view": {
         "height": 300,
         "width": 400
        }
       },
       "data": {
        "name": "data-c3d2227312c484dfcad5cca1c9cecb94"
       },
       "datasets": {
        "data-c3d2227312c484dfcad5cca1c9cecb94": [
         {
          "BrinActueel": "27UM",
          "BrinNaamActueel": "De Haagse Hogeschool",
          "Score": 3.3059690493736182,
          "Variabele": "Studielast_01"
         },
         {
          "BrinActueel": "27PZ",
          "BrinNaamActueel": "Hogeschool INHOLLAND",
          "Score": 3.4703692212224637,
          "Variabele": "Studielast_01"
         },
         {
          "BrinActueel": "21RI",
          "BrinNaamActueel": "Hogeschool Leiden",
          "Score": 3.333539603960396,
          "Variabele": "Studielast_01"
         },
         {
          "BrinActueel": "22OJ",
          "BrinNaamActueel": "Hogeschool Rotterdam",
          "Score": 3.3976405979863724,
          "Variabele": "Studielast_01"
         },
         {
          "BrinActueel": "25DW",
          "BrinNaamActueel": "Hogeschool Utrecht",
          "Score": 3.37583647645699,
          "Variabele": "Studielast_01"
         },
         {
          "BrinActueel": "28DN",
          "BrinNaamActueel": "Hogeschool van Amsterdam",
          "Score": 3.3203909612625537,
          "Variabele": "Studielast_01"
         },
         {
          "BrinActueel": "27UM",
          "BrinNaamActueel": "De Haagse Hogeschool",
          "Score": 3.409277143693298,
          "Variabele": "Studielast_02"
         },
         {
          "BrinActueel": "27PZ",
          "BrinNaamActueel": "Hogeschool INHOLLAND",
          "Score": 3.5684519215928385,
          "Variabele": "Studielast_02"
         },
         {
          "BrinActueel": "21RI",
          "BrinNaamActueel": "Hogeschool Leiden",
          "Score": 3.463759213759214,
          "Variabele": "Studielast_02"
         },
         {
          "BrinActueel": "22OJ",
          "BrinNaamActueel": "Hogeschool Rotterdam",
          "Score": 3.4992428066633012,
          "Variabele": "Studielast_02"
         },
         {
          "BrinActueel": "25DW",
          "BrinNaamActueel": "Hogeschool Utrecht",
          "Score": 3.5525933107125547,
          "Variabele": "Studielast_02"
         },
         {
          "BrinActueel": "28DN",
          "BrinNaamActueel": "Hogeschool van Amsterdam",
          "Score": 3.420532454812572,
          "Variabele": "Studielast_02"
         },
         {
          "BrinActueel": "27UM",
          "BrinNaamActueel": "De Haagse Hogeschool",
          "Score": 3.359463169132225,
          "Variabele": "Studielast_04"
         },
         {
          "BrinActueel": "27PZ",
          "BrinNaamActueel": "Hogeschool INHOLLAND",
          "Score": 3.534320751712056,
          "Variabele": "Studielast_04"
         },
         {
          "BrinActueel": "21RI",
          "BrinNaamActueel": "Hogeschool Leiden",
          "Score": 3.498730158730159,
          "Variabele": "Studielast_04"
         },
         {
          "BrinActueel": "22OJ",
          "BrinNaamActueel": "Hogeschool Rotterdam",
          "Score": 3.5171622326551906,
          "Variabele": "Studielast_04"
         },
         {
          "BrinActueel": "25DW",
          "BrinNaamActueel": "Hogeschool Utrecht",
          "Score": 3.474283569015142,
          "Variabele": "Studielast_04"
         },
         {
          "BrinActueel": "28DN",
          "BrinNaamActueel": "Hogeschool van Amsterdam",
          "Score": 3.445120265413326,
          "Variabele": "Studielast_04"
         },
         {
          "BrinActueel": "27UM",
          "BrinNaamActueel": "De Haagse Hogeschool",
          "Score": 3.253471714661599,
          "Variabele": "Studierooster_03"
         },
         {
          "BrinActueel": "27PZ",
          "BrinNaamActueel": "Hogeschool INHOLLAND",
          "Score": 3.335136806307003,
          "Variabele": "Studierooster_03"
         },
         {
          "BrinActueel": "21RI",
          "BrinNaamActueel": "Hogeschool Leiden",
          "Score": 2.9328426862925485,
          "Variabele": "Studierooster_03"
         },
         {
          "BrinActueel": "22OJ",
          "BrinNaamActueel": "Hogeschool Rotterdam",
          "Score": 3.3322548028311427,
          "Variabele": "Studierooster_03"
         },
         {
          "BrinActueel": "25DW",
          "BrinNaamActueel": "Hogeschool Utrecht",
          "Score": 3.2506673137587963,
          "Variabele": "Studierooster_03"
         },
         {
          "BrinActueel": "28DN",
          "BrinNaamActueel": "Hogeschool van Amsterdam",
          "Score": 3.171382808328884,
          "Variabele": "Studierooster_03"
         },
         {
          "BrinActueel": "27UM",
          "BrinNaamActueel": "De Haagse Hogeschool",
          "Score": 3.5528608771420274,
          "Variabele": "Informatievoorziening_02"
         },
         {
          "BrinActueel": "27PZ",
          "BrinNaamActueel": "Hogeschool INHOLLAND",
          "Score": 3.711947376472388,
          "Variabele": "Informatievoorziening_02"
         },
         {
          "BrinActueel": "21RI",
          "BrinNaamActueel": "Hogeschool Leiden",
          "Score": 3.569080949482654,
          "Variabele": "Informatievoorziening_02"
         },
         {
          "BrinActueel": "22OJ",
          "BrinNaamActueel": "Hogeschool Rotterdam",
          "Score": 3.6087610264635126,
          "Variabele": "Informatievoorziening_02"
         },
         {
          "BrinActueel": "25DW",
          "BrinNaamActueel": "Hogeschool Utrecht",
          "Score": 3.7063473053892215,
          "Variabele": "Informatievoorziening_02"
         },
         {
          "BrinActueel": "28DN",
          "BrinNaamActueel": "Hogeschool van Amsterdam",
          "Score": 3.4799223369517254,
          "Variabele": "Informatievoorziening_02"
         },
         {
          "BrinActueel": "27UM",
          "BrinNaamActueel": "De Haagse Hogeschool",
          "Score": 2.9592989571263035,
          "Variabele": "Informatievoorziening_05"
         },
         {
          "BrinActueel": "27PZ",
          "BrinNaamActueel": "Hogeschool INHOLLAND",
          "Score": 2.917099236641221,
          "Variabele": "Informatievoorziening_05"
         },
         {
          "BrinActueel": "21RI",
          "BrinNaamActueel": "Hogeschool Leiden",
          "Score": 3.099726360595926,
          "Variabele": "Informatievoorziening_05"
         },
         {
          "BrinActueel": "22OJ",
          "BrinNaamActueel": "Hogeschool Rotterdam",
          "Score": 3.051294870512949,
          "Variabele": "Informatievoorziening_05"
         },
         {
          "BrinActueel": "25DW",
          "BrinNaamActueel": "Hogeschool Utrecht",
          "Score": 3.0727056019070322,
          "Variabele": "Informatievoorziening_05"
         },
         {
          "BrinActueel": "28DN",
          "BrinNaamActueel": "Hogeschool van Amsterdam",
          "Score": 2.828490931502025,
          "Variabele": "Informatievoorziening_05"
         }
        ]
       },
       "facet": {
        "column": {
         "field": "BrinNaamActueel",
         "type": "nominal"
        }
       },
       "spec": {
        "encoding": {
         "x": {
          "field": "Variabele",
          "sort": {
           "field": "Variabele"
          },
          "type": "nominal"
         },
         "y": {
          "field": "Score",
          "type": "quantitative"
         }
        },
        "mark": "bar",
        "width": 180
       }
      },
      "image/png": "[encoded data removed]",
      "text/plain": [
       "<VegaLite 3 object>\n",
       "\n",
       "If you see this message, it means the renderer has not been properly enabled\n",
       "for the frontend that you are using. For more information, see\n",
       "https://altair-viz.github.io/user_guide/troubleshooting.html\n"
      ]
     },
     "execution_count": 37,
     "metadata": {},
     "output_type": "execute_result"
    }
   ],
   "source": [
    "filter_g5 = long.BrinActueel.isin(g5_brin)\n",
    "filter_haalbaarheid=long.Variabele!='Haalbaarheid'\n",
    "alt.Chart(long[(filter_g5) & (filter_haalbaarheid)],width=180).mark_bar().encode(\n",
    "      y='Score'\n",
    "    , x=alt.X('Variabele', sort=alt.EncodingSortField(field='Variabele'))).facet(column='BrinNaamActueel')\n"
   ]
  },
  {
   "cell_type": "markdown",
   "metadata": {},
   "source": [
    "## Controle\n",
    "\n",
    "We kijken op een aantal manieren of de manier waarop Keuzegids de schaal maakt hout snijdt. Hieronder een correlatiematrix van alle items.\n",
    "\n",
    "### Correlatiematrix"
   ]
  },
  {
   "cell_type": "code",
   "execution_count": 38,
   "metadata": {},
   "outputs": [
    {
     "data": {
      "text/html": [
       "<div>\n",
       "<style scoped>\n",
       "    .dataframe tbody tr th:only-of-type {\n",
       "        vertical-align: middle;\n",
       "    }\n",
       "\n",
       "    .dataframe tbody tr th {\n",
       "        vertical-align: top;\n",
       "    }\n",
       "\n",
       "    .dataframe thead th {\n",
       "        text-align: right;\n",
       "    }\n",
       "</style>\n",
       "<table border=\"1\" class=\"dataframe\">\n",
       "  <thead>\n",
       "    <tr style=\"text-align: right;\">\n",
       "      <th></th>\n",
       "      <th>Studielast_01</th>\n",
       "      <th>Studielast_02</th>\n",
       "      <th>Studielast_04</th>\n",
       "      <th>Studierooster_03</th>\n",
       "      <th>Informatievoorziening_02</th>\n",
       "      <th>Informatievoorziening_05</th>\n",
       "    </tr>\n",
       "  </thead>\n",
       "  <tbody>\n",
       "    <tr>\n",
       "      <td>Studielast_01</td>\n",
       "      <td>1.000000</td>\n",
       "      <td>0.600117</td>\n",
       "      <td>0.489243</td>\n",
       "      <td>0.440977</td>\n",
       "      <td>0.352071</td>\n",
       "      <td>0.359667</td>\n",
       "    </tr>\n",
       "    <tr>\n",
       "      <td>Studielast_02</td>\n",
       "      <td>0.600117</td>\n",
       "      <td>1.000000</td>\n",
       "      <td>0.553853</td>\n",
       "      <td>0.396082</td>\n",
       "      <td>0.354850</td>\n",
       "      <td>0.362744</td>\n",
       "    </tr>\n",
       "    <tr>\n",
       "      <td>Studielast_04</td>\n",
       "      <td>0.489243</td>\n",
       "      <td>0.553853</td>\n",
       "      <td>1.000000</td>\n",
       "      <td>0.359075</td>\n",
       "      <td>0.412505</td>\n",
       "      <td>0.357018</td>\n",
       "    </tr>\n",
       "    <tr>\n",
       "      <td>Studierooster_03</td>\n",
       "      <td>0.440977</td>\n",
       "      <td>0.396082</td>\n",
       "      <td>0.359075</td>\n",
       "      <td>1.000000</td>\n",
       "      <td>0.315867</td>\n",
       "      <td>0.383626</td>\n",
       "    </tr>\n",
       "    <tr>\n",
       "      <td>Informatievoorziening_02</td>\n",
       "      <td>0.352071</td>\n",
       "      <td>0.354850</td>\n",
       "      <td>0.412505</td>\n",
       "      <td>0.315867</td>\n",
       "      <td>1.000000</td>\n",
       "      <td>0.383569</td>\n",
       "    </tr>\n",
       "    <tr>\n",
       "      <td>Informatievoorziening_05</td>\n",
       "      <td>0.359667</td>\n",
       "      <td>0.362744</td>\n",
       "      <td>0.357018</td>\n",
       "      <td>0.383626</td>\n",
       "      <td>0.383569</td>\n",
       "      <td>1.000000</td>\n",
       "    </tr>\n",
       "  </tbody>\n",
       "</table>\n",
       "</div>"
      ],
      "text/plain": [
       "                          Studielast_01  Studielast_02  Studielast_04  \\\n",
       "Studielast_01                  1.000000       0.600117       0.489243   \n",
       "Studielast_02                  0.600117       1.000000       0.553853   \n",
       "Studielast_04                  0.489243       0.553853       1.000000   \n",
       "Studierooster_03               0.440977       0.396082       0.359075   \n",
       "Informatievoorziening_02       0.352071       0.354850       0.412505   \n",
       "Informatievoorziening_05       0.359667       0.362744       0.357018   \n",
       "\n",
       "                          Studierooster_03  Informatievoorziening_02  \\\n",
       "Studielast_01                     0.440977                  0.352071   \n",
       "Studielast_02                     0.396082                  0.354850   \n",
       "Studielast_04                     0.359075                  0.412505   \n",
       "Studierooster_03                  1.000000                  0.315867   \n",
       "Informatievoorziening_02          0.315867                  1.000000   \n",
       "Informatievoorziening_05          0.383626                  0.383569   \n",
       "\n",
       "                          Informatievoorziening_05  \n",
       "Studielast_01                             0.359667  \n",
       "Studielast_02                             0.362744  \n",
       "Studielast_04                             0.357018  \n",
       "Studierooster_03                          0.383626  \n",
       "Informatievoorziening_02                  0.383569  \n",
       "Informatievoorziening_05                  1.000000  "
      ]
     },
     "execution_count": 38,
     "metadata": {},
     "output_type": "execute_result"
    }
   ],
   "source": [
    "hbo_vt_2018[haalbaarheid].corr()"
   ]
  },
  {
   "cell_type": "markdown",
   "metadata": {},
   "source": [
    "## Cronbach's alpha\n",
    "Keuzegids maakt een eigen schaal. Maar is het ook een schaal? Cronbach's alpha kan ons helpen een indicatie krijgen van de betrouwbaarheid van de schaal/"
   ]
  },
  {
   "cell_type": "code",
   "execution_count": 39,
   "metadata": {},
   "outputs": [],
   "source": [
    "import numpy\n",
    "def cronbach(itemscores):\n",
    "    itemscores = numpy.asarray(itemscores)\n",
    "    itemvars = itemscores.var(axis=1, ddof=1)\n",
    "    tscores = itemscores.sum(axis=0)\n",
    "    nitems = len(itemscores)\n",
    "\n",
    "    return nitems / (nitems-1.) * (1 - itemvars.sum() / tscores.var(ddof=1))"
   ]
  },
  {
   "cell_type": "code",
   "execution_count": 40,
   "metadata": {},
   "outputs": [],
   "source": [
    "def get_itemscores(data, items):\n",
    "    \"\"\"Maakt een lijst van lijsten. Iedere lijst zijn de scores op een item, missings\n",
    "    worden opgevuld met het gemiddelde.\"\"\"\n",
    "    itemscores = []\n",
    "    data = data[items].dropna()\n",
    "    for item in items:\n",
    "        itemscores_filled = data[item].fillna(data[item].mean()).tolist()\n",
    "        itemscores.append(itemscores_filled)\n",
    "    return itemscores\n",
    "    \n",
    "itemscores = get_itemscores(hbo_vt_2018, haalbaarheid)"
   ]
  },
  {
   "cell_type": "code",
   "execution_count": null,
   "metadata": {},
   "outputs": [],
   "source": []
  },
  {
   "cell_type": "code",
   "execution_count": 41,
   "metadata": {},
   "outputs": [
    {
     "data": {
      "text/plain": [
       "0.8038503333689151"
      ]
     },
     "execution_count": 41,
     "metadata": {},
     "output_type": "execute_result"
    }
   ],
   "source": [
    "cronbach(itemscores)"
   ]
  },
  {
   "cell_type": "markdown",
   "metadata": {},
   "source": [
    "Met een cronbach's alpha van 0,81 kan je zeggen dat de schaal betrouwbaarheid is. De items hangen dus wel voldoende met elkaar samen."
   ]
  },
  {
   "cell_type": "code",
   "execution_count": null,
   "metadata": {},
   "outputs": [],
   "source": []
  },
  {
   "cell_type": "markdown",
   "metadata": {},
   "source": [
    "### Maar zijn het reeele verschillen?"
   ]
  },
  {
   "cell_type": "code",
   "execution_count": 43,
   "metadata": {},
   "outputs": [
    {
     "data": {
      "text/html": [
       "<table class=\"simpletable\">\n",
       "<caption>Multiple Comparison of Means - Tukey HSD, FWER=0.05</caption>\n",
       "<tr>\n",
       "                 <th>group1</th>                               <th>group2</th>                <th>meandiff</th>  <th>p-adj</th>  <th>lower</th>   <th>upper</th>  <th>reject</th>\n",
       "</tr>\n",
       "<tr>\n",
       "            <td>Aeres Hogeschool</td>                           <td>ArtEZ</td>                 <td>0.0891</td>  <td>0.1708</td> <td>-0.0119</td> <td>0.1901</td>   <td>False</td>\n",
       "</tr>\n",
       "<tr>\n",
       "            <td>Aeres Hogeschool</td>                     <td>Avans Hogeschool</td>            <td>0.1634</td>   <td>0.001</td> <td>0.0895</td>  <td>0.2372</td>   <td>True</td> \n",
       "</tr>\n",
       "<tr>\n",
       "            <td>Aeres Hogeschool</td>            <td>Christelijke Hogeschool Windesheim</td>    <td>0.125</td>   <td>0.001</td> <td>0.0483</td>  <td>0.2018</td>   <td>True</td> \n",
       "</tr>\n",
       "<tr>\n",
       "            <td>Aeres Hogeschool</td>                   <td>De Haagse Hogeschool</td>          <td>-0.1313</td>  <td>0.001</td> <td>-0.207</td>  <td>-0.0556</td>  <td>True</td> \n",
       "</tr>\n",
       "<tr>\n",
       "            <td>Aeres Hogeschool</td>                    <td>Fontys Hogescholen</td>           <td>0.0452</td>  <td>0.7672</td> <td>-0.0276</td> <td>0.1181</td>   <td>False</td>\n",
       "</tr>\n",
       "<tr>\n",
       "            <td>Aeres Hogeschool</td>             <td>HZ University of Applied Sciences</td>   <td>0.2223</td>   <td>0.001</td> <td>0.1334</td>  <td>0.3111</td>   <td>True</td> \n",
       "</tr>\n",
       "<tr>\n",
       "            <td>Aeres Hogeschool</td>                 <td>Hanzehogeschool Groningen</td>       <td>0.0874</td>   <td>0.005</td> <td>0.0131</td>  <td>0.1617</td>   <td>True</td> \n",
       "</tr>\n",
       "<tr>\n",
       "            <td>Aeres Hogeschool</td>                   <td>Hogeschool INHOLLAND</td>          <td>-0.0159</td>   <td>0.9</td>  <td>-0.092</td>  <td>0.0601</td>   <td>False</td>\n",
       "</tr>\n",
       "<tr>\n",
       "            <td>Aeres Hogeschool</td>                     <td>Hogeschool Leiden</td>           <td>-0.121</td>   <td>0.001</td> <td>-0.203</td>  <td>-0.0391</td>  <td>True</td> \n",
       "</tr>\n",
       "<tr>\n",
       "            <td>Aeres Hogeschool</td>                   <td>Hogeschool Rotterdam</td>          <td>-0.0359</td>   <td>0.9</td>  <td>-0.1097</td>  <td>0.038</td>   <td>False</td>\n",
       "</tr>\n",
       "<tr>\n",
       "            <td>Aeres Hogeschool</td>                    <td>Hogeschool Utrecht</td>           <td>-0.0324</td>   <td>0.9</td>  <td>-0.1071</td> <td>0.0422</td>   <td>False</td>\n",
       "</tr>\n",
       "<tr>\n",
       "            <td>Aeres Hogeschool</td>              <td>Hogeschool Van Hall Larenstein</td>     <td>-0.1038</td> <td>0.0166</td> <td>-0.1992</td> <td>-0.0085</td>  <td>True</td> \n",
       "</tr>\n",
       "<tr>\n",
       "            <td>Aeres Hogeschool</td>                 <td>Hogeschool van Amsterdam</td>        <td>-0.1605</td>  <td>0.001</td> <td>-0.2338</td> <td>-0.0871</td>  <td>True</td> \n",
       "</tr>\n",
       "<tr>\n",
       "            <td>Aeres Hogeschool</td>             <td>Hogeschool van Arnhem en Nijmegen</td>   <td>0.0117</td>    <td>0.9</td>  <td>-0.0618</td> <td>0.0853</td>   <td>False</td>\n",
       "</tr>\n",
       "<tr>\n",
       "            <td>Aeres Hogeschool</td>                      <td>NHL Hogeschool</td>             <td>0.1732</td>   <td>0.001</td> <td>0.0928</td>  <td>0.2537</td>   <td>True</td> \n",
       "</tr>\n",
       "<tr>\n",
       "            <td>Aeres Hogeschool</td>           <td>NHTV internationale hogeschool Breda</td>  <td>0.1729</td>   <td>0.001</td> <td>0.0826</td>  <td>0.2631</td>   <td>True</td> \n",
       "</tr>\n",
       "<tr>\n",
       "            <td>Aeres Hogeschool</td>                     <td>Saxion Hogeschool</td>           <td>0.0532</td>  <td>0.5645</td> <td>-0.0219</td> <td>0.1284</td>   <td>False</td>\n",
       "</tr>\n",
       "<tr>\n",
       "            <td>Aeres Hogeschool</td>                    <td>Stenden Hogeschool</td>           <td>0.1607</td>   <td>0.001</td> <td>0.0777</td>  <td>0.2437</td>   <td>True</td> \n",
       "</tr>\n",
       "<tr>\n",
       "            <td>Aeres Hogeschool</td>                      <td>Zuyd Hogeschool</td>            <td>0.0195</td>    <td>0.9</td>  <td>-0.0592</td> <td>0.0982</td>   <td>False</td>\n",
       "</tr>\n",
       "<tr>\n",
       "                  <td>ArtEZ</td>                          <td>Avans Hogeschool</td>            <td>0.0743</td>  <td>0.0785</td> <td>-0.0031</td> <td>0.1517</td>   <td>False</td>\n",
       "</tr>\n",
       "<tr>\n",
       "                  <td>ArtEZ</td>                 <td>Christelijke Hogeschool Windesheim</td>    <td>0.036</td>    <td>0.9</td>  <td>-0.0441</td> <td>0.1161</td>   <td>False</td>\n",
       "</tr>\n",
       "<tr>\n",
       "                  <td>ArtEZ</td>                        <td>De Haagse Hogeschool</td>          <td>-0.2203</td>  <td>0.001</td> <td>-0.2994</td> <td>-0.1412</td>  <td>True</td> \n",
       "</tr>\n",
       "<tr>\n",
       "                  <td>ArtEZ</td>                         <td>Fontys Hogescholen</td>           <td>-0.0438</td> <td>0.8781</td> <td>-0.1202</td> <td>0.0325</td>   <td>False</td>\n",
       "</tr>\n",
       "<tr>\n",
       "                  <td>ArtEZ</td>                  <td>HZ University of Applied Sciences</td>   <td>0.1332</td>   <td>0.001</td> <td>0.0415</td>   <td>0.225</td>   <td>True</td> \n",
       "</tr>\n",
       "<tr>\n",
       "                  <td>ArtEZ</td>                      <td>Hanzehogeschool Groningen</td>       <td>-0.0017</td>   <td>0.9</td>  <td>-0.0795</td> <td>0.0761</td>   <td>False</td>\n",
       "</tr>\n",
       "<tr>\n",
       "                  <td>ArtEZ</td>                        <td>Hogeschool INHOLLAND</td>          <td>-0.105</td>   <td>0.001</td> <td>-0.1844</td> <td>-0.0256</td>  <td>True</td> \n",
       "</tr>\n",
       "<tr>\n",
       "                  <td>ArtEZ</td>                          <td>Hogeschool Leiden</td>           <td>-0.2101</td>  <td>0.001</td> <td>-0.2952</td> <td>-0.125</td>   <td>True</td> \n",
       "</tr>\n",
       "<tr>\n",
       "                  <td>ArtEZ</td>                        <td>Hogeschool Rotterdam</td>          <td>-0.1249</td>  <td>0.001</td> <td>-0.2023</td> <td>-0.0476</td>  <td>True</td> \n",
       "</tr>\n",
       "<tr>\n",
       "                  <td>ArtEZ</td>                         <td>Hogeschool Utrecht</td>           <td>-0.1215</td>  <td>0.001</td> <td>-0.1996</td> <td>-0.0434</td>  <td>True</td> \n",
       "</tr>\n",
       "<tr>\n",
       "                  <td>ArtEZ</td>                   <td>Hogeschool Van Hall Larenstein</td>     <td>-0.1929</td>  <td>0.001</td> <td>-0.291</td>  <td>-0.0948</td>  <td>True</td> \n",
       "</tr>\n",
       "<tr>\n",
       "                  <td>ArtEZ</td>                      <td>Hogeschool van Amsterdam</td>        <td>-0.2496</td>  <td>0.001</td> <td>-0.3264</td> <td>-0.1727</td>  <td>True</td> \n",
       "</tr>\n",
       "<tr>\n",
       "                  <td>ArtEZ</td>                  <td>Hogeschool van Arnhem en Nijmegen</td>   <td>-0.0773</td> <td>0.0479</td> <td>-0.1544</td> <td>-0.0003</td>  <td>True</td> \n",
       "</tr>\n",
       "<tr>\n",
       "                  <td>ArtEZ</td>                           <td>NHL Hogeschool</td>             <td>0.0842</td>  <td>0.0466</td> <td>0.0005</td>  <td>0.1678</td>   <td>True</td> \n",
       "</tr>\n",
       "<tr>\n",
       "                  <td>ArtEZ</td>                <td>NHTV internationale hogeschool Breda</td>  <td>0.0838</td>  <td>0.1436</td> <td>-0.0093</td> <td>0.1769</td>   <td>False</td>\n",
       "</tr>\n",
       "<tr>\n",
       "                  <td>ArtEZ</td>                          <td>Saxion Hogeschool</td>           <td>-0.0358</td>   <td>0.9</td>  <td>-0.1144</td> <td>0.0428</td>   <td>False</td>\n",
       "</tr>\n",
       "<tr>\n",
       "                  <td>ArtEZ</td>                         <td>Stenden Hogeschool</td>           <td>0.0716</td>  <td>0.2604</td> <td>-0.0145</td> <td>0.1577</td>   <td>False</td>\n",
       "</tr>\n",
       "<tr>\n",
       "                  <td>ArtEZ</td>                           <td>Zuyd Hogeschool</td>            <td>-0.0695</td> <td>0.2278</td> <td>-0.1515</td> <td>0.0124</td>   <td>False</td>\n",
       "</tr>\n",
       "<tr>\n",
       "            <td>Avans Hogeschool</td>            <td>Christelijke Hogeschool Windesheim</td>   <td>-0.0383</td> <td>0.1002</td> <td>-0.0792</td> <td>0.0026</td>   <td>False</td>\n",
       "</tr>\n",
       "<tr>\n",
       "            <td>Avans Hogeschool</td>                   <td>De Haagse Hogeschool</td>          <td>-0.2946</td>  <td>0.001</td> <td>-0.3335</td> <td>-0.2557</td>  <td>True</td> \n",
       "</tr>\n",
       "<tr>\n",
       "            <td>Avans Hogeschool</td>                    <td>Fontys Hogescholen</td>           <td>-0.1181</td>  <td>0.001</td> <td>-0.1511</td> <td>-0.0852</td>  <td>True</td> \n",
       "</tr>\n",
       "<tr>\n",
       "            <td>Avans Hogeschool</td>             <td>HZ University of Applied Sciences</td>   <td>0.0589</td>  <td>0.0695</td> <td>-0.0017</td> <td>0.1196</td>   <td>False</td>\n",
       "</tr>\n",
       "<tr>\n",
       "            <td>Avans Hogeschool</td>                 <td>Hanzehogeschool Groningen</td>       <td>-0.076</td>   <td>0.001</td> <td>-0.1121</td> <td>-0.0399</td>  <td>True</td> \n",
       "</tr>\n",
       "<tr>\n",
       "            <td>Avans Hogeschool</td>                   <td>Hogeschool INHOLLAND</td>          <td>-0.1793</td>  <td>0.001</td> <td>-0.2188</td> <td>-0.1397</td>  <td>True</td> \n",
       "</tr>\n",
       "<tr>\n",
       "            <td>Avans Hogeschool</td>                     <td>Hogeschool Leiden</td>           <td>-0.2844</td>  <td>0.001</td> <td>-0.3344</td> <td>-0.2344</td>  <td>True</td> \n",
       "</tr>\n",
       "<tr>\n",
       "            <td>Avans Hogeschool</td>                   <td>Hogeschool Rotterdam</td>          <td>-0.1992</td>  <td>0.001</td> <td>-0.2344</td> <td>-0.164</td>   <td>True</td> \n",
       "</tr>\n",
       "<tr>\n",
       "            <td>Avans Hogeschool</td>                    <td>Hogeschool Utrecht</td>           <td>-0.1958</td>  <td>0.001</td> <td>-0.2326</td> <td>-0.1589</td>  <td>True</td> \n",
       "</tr>\n",
       "<tr>\n",
       "            <td>Avans Hogeschool</td>              <td>Hogeschool Van Hall Larenstein</td>     <td>-0.2672</td>  <td>0.001</td> <td>-0.337</td>  <td>-0.1974</td>  <td>True</td> \n",
       "</tr>\n",
       "<tr>\n",
       "            <td>Avans Hogeschool</td>                 <td>Hogeschool van Amsterdam</td>        <td>-0.3239</td>  <td>0.001</td> <td>-0.358</td>  <td>-0.2897</td>  <td>True</td> \n",
       "</tr>\n",
       "<tr>\n",
       "            <td>Avans Hogeschool</td>             <td>Hogeschool van Arnhem en Nijmegen</td>   <td>-0.1516</td>  <td>0.001</td> <td>-0.1862</td> <td>-0.1171</td>  <td>True</td> \n",
       "</tr>\n",
       "<tr>\n",
       "            <td>Avans Hogeschool</td>                      <td>NHL Hogeschool</td>             <td>0.0099</td>    <td>0.9</td>  <td>-0.0376</td> <td>0.0574</td>   <td>False</td>\n",
       "</tr>\n",
       "<tr>\n",
       "            <td>Avans Hogeschool</td>           <td>NHTV internationale hogeschool Breda</td>  <td>0.0095</td>    <td>0.9</td>  <td>-0.0532</td> <td>0.0722</td>   <td>False</td>\n",
       "</tr>\n",
       "<tr>\n",
       "            <td>Avans Hogeschool</td>                     <td>Saxion Hogeschool</td>           <td>-0.1101</td>  <td>0.001</td> <td>-0.148</td>  <td>-0.0722</td>  <td>True</td> \n",
       "</tr>\n",
       "<tr>\n",
       "            <td>Avans Hogeschool</td>                    <td>Stenden Hogeschool</td>           <td>-0.0027</td>   <td>0.9</td>  <td>-0.0544</td>  <td>0.049</td>   <td>False</td>\n",
       "</tr>\n",
       "<tr>\n",
       "            <td>Avans Hogeschool</td>                      <td>Zuyd Hogeschool</td>            <td>-0.1438</td>  <td>0.001</td> <td>-0.1883</td> <td>-0.0994</td>  <td>True</td> \n",
       "</tr>\n",
       "<tr>\n",
       "   <td>Christelijke Hogeschool Windesheim</td>          <td>De Haagse Hogeschool</td>          <td>-0.2563</td>  <td>0.001</td> <td>-0.3004</td> <td>-0.2122</td>  <td>True</td> \n",
       "</tr>\n",
       "<tr>\n",
       "   <td>Christelijke Hogeschool Windesheim</td>           <td>Fontys Hogescholen</td>           <td>-0.0798</td>  <td>0.001</td> <td>-0.1187</td> <td>-0.0408</td>  <td>True</td> \n",
       "</tr>\n",
       "<tr>\n",
       "   <td>Christelijke Hogeschool Windesheim</td>    <td>HZ University of Applied Sciences</td>   <td>0.0972</td>   <td>0.001</td> <td>0.0331</td>  <td>0.1614</td>   <td>True</td> \n",
       "</tr>\n",
       "<tr>\n",
       "   <td>Christelijke Hogeschool Windesheim</td>        <td>Hanzehogeschool Groningen</td>       <td>-0.0377</td>  <td>0.137</td> <td>-0.0793</td>  <td>0.004</td>   <td>False</td>\n",
       "</tr>\n",
       "<tr>\n",
       "   <td>Christelijke Hogeschool Windesheim</td>          <td>Hogeschool INHOLLAND</td>          <td>-0.141</td>   <td>0.001</td> <td>-0.1856</td> <td>-0.0963</td>  <td>True</td> \n",
       "</tr>\n",
       "<tr>\n",
       "   <td>Christelijke Hogeschool Windesheim</td>            <td>Hogeschool Leiden</td>           <td>-0.2461</td>  <td>0.001</td> <td>-0.3002</td> <td>-0.192</td>   <td>True</td> \n",
       "</tr>\n",
       "<tr>\n",
       "   <td>Christelijke Hogeschool Windesheim</td>          <td>Hogeschool Rotterdam</td>          <td>-0.1609</td>  <td>0.001</td> <td>-0.2018</td> <td>-0.1201</td>  <td>True</td> \n",
       "</tr>\n",
       "<tr>\n",
       "   <td>Christelijke Hogeschool Windesheim</td>           <td>Hogeschool Utrecht</td>           <td>-0.1575</td>  <td>0.001</td> <td>-0.1997</td> <td>-0.1152</td>  <td>True</td> \n",
       "</tr>\n",
       "<tr>\n",
       "   <td>Christelijke Hogeschool Windesheim</td>     <td>Hogeschool Van Hall Larenstein</td>     <td>-0.2289</td>  <td>0.001</td> <td>-0.3017</td> <td>-0.1561</td>  <td>True</td> \n",
       "</tr>\n",
       "<tr>\n",
       "   <td>Christelijke Hogeschool Windesheim</td>        <td>Hogeschool van Amsterdam</td>        <td>-0.2855</td>  <td>0.001</td> <td>-0.3255</td> <td>-0.2456</td>  <td>True</td> \n",
       "</tr>\n",
       "<tr>\n",
       "   <td>Christelijke Hogeschool Windesheim</td>    <td>Hogeschool van Arnhem en Nijmegen</td>   <td>-0.1133</td>  <td>0.001</td> <td>-0.1536</td> <td>-0.073</td>   <td>True</td> \n",
       "</tr>\n",
       "<tr>\n",
       "   <td>Christelijke Hogeschool Windesheim</td>             <td>NHL Hogeschool</td>             <td>0.0482</td>  <td>0.1077</td> <td>-0.0036</td>   <td>0.1</td>    <td>False</td>\n",
       "</tr>\n",
       "<tr>\n",
       "   <td>Christelijke Hogeschool Windesheim</td>  <td>NHTV internationale hogeschool Breda</td>  <td>0.0478</td>  <td>0.5267</td> <td>-0.0182</td> <td>0.1139</td>   <td>False</td>\n",
       "</tr>\n",
       "<tr>\n",
       "   <td>Christelijke Hogeschool Windesheim</td>            <td>Saxion Hogeschool</td>           <td>-0.0718</td>  <td>0.001</td> <td>-0.115</td>  <td>-0.0286</td>  <td>True</td> \n",
       "</tr>\n",
       "<tr>\n",
       "   <td>Christelijke Hogeschool Windesheim</td>           <td>Stenden Hogeschool</td>           <td>0.0357</td>   <td>0.723</td>  <td>-0.02</td>  <td>0.0914</td>   <td>False</td>\n",
       "</tr>\n",
       "<tr>\n",
       "   <td>Christelijke Hogeschool Windesheim</td>             <td>Zuyd Hogeschool</td>            <td>-0.1055</td>  <td>0.001</td> <td>-0.1546</td> <td>-0.0565</td>  <td>True</td> \n",
       "</tr>\n",
       "<tr>\n",
       "          <td>De Haagse Hogeschool</td>                  <td>Fontys Hogescholen</td>           <td>0.1765</td>   <td>0.001</td> <td>0.1397</td>  <td>0.2133</td>   <td>True</td> \n",
       "</tr>\n",
       "<tr>\n",
       "          <td>De Haagse Hogeschool</td>           <td>HZ University of Applied Sciences</td>   <td>0.3535</td>   <td>0.001</td> <td>0.2907</td>  <td>0.4164</td>   <td>True</td> \n",
       "</tr>\n",
       "<tr>\n",
       "          <td>De Haagse Hogeschool</td>               <td>Hanzehogeschool Groningen</td>       <td>0.2186</td>   <td>0.001</td> <td>0.1789</td>  <td>0.2583</td>   <td>True</td> \n",
       "</tr>\n",
       "<tr>\n",
       "          <td>De Haagse Hogeschool</td>                 <td>Hogeschool INHOLLAND</td>          <td>0.1153</td>   <td>0.001</td> <td>0.0725</td>  <td>0.1582</td>   <td>True</td> \n",
       "</tr>\n",
       "<tr>\n",
       "          <td>De Haagse Hogeschool</td>                   <td>Hogeschool Leiden</td>           <td>0.0102</td>    <td>0.9</td>  <td>-0.0424</td> <td>0.0628</td>   <td>False</td>\n",
       "</tr>\n",
       "<tr>\n",
       "          <td>De Haagse Hogeschool</td>                 <td>Hogeschool Rotterdam</td>          <td>0.0954</td>   <td>0.001</td> <td>0.0565</td>  <td>0.1342</td>   <td>True</td> \n",
       "</tr>\n",
       "<tr>\n",
       "          <td>De Haagse Hogeschool</td>                  <td>Hogeschool Utrecht</td>           <td>0.0988</td>   <td>0.001</td> <td>0.0585</td>  <td>0.1392</td>   <td>True</td> \n",
       "</tr>\n",
       "<tr>\n",
       "          <td>De Haagse Hogeschool</td>            <td>Hogeschool Van Hall Larenstein</td>     <td>0.0274</td>    <td>0.9</td>  <td>-0.0443</td> <td>0.0991</td>   <td>False</td>\n",
       "</tr>\n",
       "<tr>\n",
       "          <td>De Haagse Hogeschool</td>               <td>Hogeschool van Amsterdam</td>        <td>-0.0292</td>  <td>0.407</td> <td>-0.0671</td> <td>0.0086</td>   <td>False</td>\n",
       "</tr>\n",
       "<tr>\n",
       "          <td>De Haagse Hogeschool</td>           <td>Hogeschool van Arnhem en Nijmegen</td>    <td>0.143</td>   <td>0.001</td> <td>0.1047</td>  <td>0.1812</td>   <td>True</td> \n",
       "</tr>\n",
       "<tr>\n",
       "          <td>De Haagse Hogeschool</td>                    <td>NHL Hogeschool</td>             <td>0.3045</td>   <td>0.001</td> <td>0.2542</td>  <td>0.3548</td>   <td>True</td> \n",
       "</tr>\n",
       "<tr>\n",
       "          <td>De Haagse Hogeschool</td>         <td>NHTV internationale hogeschool Breda</td>  <td>0.3041</td>   <td>0.001</td> <td>0.2393</td>  <td>0.3689</td>   <td>True</td> \n",
       "</tr>\n",
       "<tr>\n",
       "          <td>De Haagse Hogeschool</td>                   <td>Saxion Hogeschool</td>           <td>0.1845</td>   <td>0.001</td> <td>0.1432</td>  <td>0.2258</td>   <td>True</td> \n",
       "</tr>\n",
       "<tr>\n",
       "          <td>De Haagse Hogeschool</td>                  <td>Stenden Hogeschool</td>            <td>0.292</td>   <td>0.001</td> <td>0.2377</td>  <td>0.3462</td>   <td>True</td> \n",
       "</tr>\n",
       "<tr>\n",
       "          <td>De Haagse Hogeschool</td>                    <td>Zuyd Hogeschool</td>            <td>0.1508</td>   <td>0.001</td> <td>0.1034</td>  <td>0.1982</td>   <td>True</td> \n",
       "</tr>\n",
       "<tr>\n",
       "           <td>Fontys Hogescholen</td>            <td>HZ University of Applied Sciences</td>    <td>0.177</td>   <td>0.001</td> <td>0.1177</td>  <td>0.2364</td>   <td>True</td> \n",
       "</tr>\n",
       "<tr>\n",
       "           <td>Fontys Hogescholen</td>                <td>Hanzehogeschool Groningen</td>       <td>0.0421</td>  <td>0.0018</td> <td>0.0082</td>   <td>0.076</td>   <td>True</td> \n",
       "</tr>\n",
       "<tr>\n",
       "           <td>Fontys Hogescholen</td>                  <td>Hogeschool INHOLLAND</td>          <td>-0.0612</td>  <td>0.001</td> <td>-0.0987</td> <td>-0.0237</td>  <td>True</td> \n",
       "</tr>\n",
       "<tr>\n",
       "           <td>Fontys Hogescholen</td>                    <td>Hogeschool Leiden</td>           <td>-0.1663</td>  <td>0.001</td> <td>-0.2146</td> <td>-0.1179</td>  <td>True</td> \n",
       "</tr>\n",
       "<tr>\n",
       "           <td>Fontys Hogescholen</td>                  <td>Hogeschool Rotterdam</td>          <td>-0.0811</td>  <td>0.001</td> <td>-0.114</td>  <td>-0.0482</td>  <td>True</td> \n",
       "</tr>\n",
       "<tr>\n",
       "           <td>Fontys Hogescholen</td>                   <td>Hogeschool Utrecht</td>           <td>-0.0777</td>  <td>0.001</td> <td>-0.1123</td> <td>-0.043</td>   <td>True</td> \n",
       "</tr>\n",
       "<tr>\n",
       "           <td>Fontys Hogescholen</td>             <td>Hogeschool Van Hall Larenstein</td>     <td>-0.1491</td>  <td>0.001</td> <td>-0.2178</td> <td>-0.0804</td>  <td>True</td> \n",
       "</tr>\n",
       "<tr>\n",
       "           <td>Fontys Hogescholen</td>                <td>Hogeschool van Amsterdam</td>        <td>-0.2057</td>  <td>0.001</td> <td>-0.2375</td> <td>-0.174</td>   <td>True</td> \n",
       "</tr>\n",
       "<tr>\n",
       "           <td>Fontys Hogescholen</td>            <td>Hogeschool van Arnhem en Nijmegen</td>   <td>-0.0335</td> <td>0.0304</td> <td>-0.0657</td> <td>-0.0013</td>  <td>True</td> \n",
       "</tr>\n",
       "<tr>\n",
       "           <td>Fontys Hogescholen</td>                     <td>NHL Hogeschool</td>              <td>0.128</td>   <td>0.001</td> <td>0.0822</td>  <td>0.1738</td>   <td>True</td> \n",
       "</tr>\n",
       "<tr>\n",
       "           <td>Fontys Hogescholen</td>          <td>NHTV internationale hogeschool Breda</td>  <td>0.1276</td>   <td>0.001</td> <td>0.0662</td>   <td>0.189</td>   <td>True</td> \n",
       "</tr>\n",
       "<tr>\n",
       "           <td>Fontys Hogescholen</td>                    <td>Saxion Hogeschool</td>            <td>0.008</td>    <td>0.9</td>  <td>-0.0278</td> <td>0.0437</td>   <td>False</td>\n",
       "</tr>\n",
       "<tr>\n",
       "           <td>Fontys Hogescholen</td>                   <td>Stenden Hogeschool</td>           <td>0.1155</td>   <td>0.001</td> <td>0.0653</td>  <td>0.1656</td>   <td>True</td> \n",
       "</tr>\n",
       "<tr>\n",
       "           <td>Fontys Hogescholen</td>                     <td>Zuyd Hogeschool</td>            <td>-0.0257</td> <td>0.8089</td> <td>-0.0684</td> <td>0.0169</td>   <td>False</td>\n",
       "</tr>\n",
       "<tr>\n",
       "    <td>HZ University of Applied Sciences</td>        <td>Hanzehogeschool Groningen</td>       <td>-0.1349</td>  <td>0.001</td> <td>-0.1961</td> <td>-0.0738</td>  <td>True</td> \n",
       "</tr>\n",
       "<tr>\n",
       "    <td>HZ University of Applied Sciences</td>          <td>Hogeschool INHOLLAND</td>          <td>-0.2382</td>  <td>0.001</td> <td>-0.3015</td> <td>-0.175</td>   <td>True</td> \n",
       "</tr>\n",
       "<tr>\n",
       "    <td>HZ University of Applied Sciences</td>            <td>Hogeschool Leiden</td>           <td>-0.3433</td>  <td>0.001</td> <td>-0.4136</td> <td>-0.2731</td>  <td>True</td> \n",
       "</tr>\n",
       "<tr>\n",
       "    <td>HZ University of Applied Sciences</td>          <td>Hogeschool Rotterdam</td>          <td>-0.2582</td>  <td>0.001</td> <td>-0.3188</td> <td>-0.1976</td>  <td>True</td> \n",
       "</tr>\n",
       "<tr>\n",
       "    <td>HZ University of Applied Sciences</td>           <td>Hogeschool Utrecht</td>           <td>-0.2547</td>  <td>0.001</td> <td>-0.3163</td> <td>-0.1931</td>  <td>True</td> \n",
       "</tr>\n",
       "<tr>\n",
       "    <td>HZ University of Applied Sciences</td>     <td>Hogeschool Van Hall Larenstein</td>     <td>-0.3261</td>  <td>0.001</td> <td>-0.4116</td> <td>-0.2406</td>  <td>True</td> \n",
       "</tr>\n",
       "<tr>\n",
       "    <td>HZ University of Applied Sciences</td>        <td>Hogeschool van Amsterdam</td>        <td>-0.3828</td>  <td>0.001</td> <td>-0.4428</td> <td>-0.3228</td>  <td>True</td> \n",
       "</tr>\n",
       "<tr>\n",
       "    <td>HZ University of Applied Sciences</td>    <td>Hogeschool van Arnhem en Nijmegen</td>   <td>-0.2106</td>  <td>0.001</td> <td>-0.2708</td> <td>-0.1503</td>  <td>True</td> \n",
       "</tr>\n",
       "<tr>\n",
       "    <td>HZ University of Applied Sciences</td>             <td>NHL Hogeschool</td>             <td>-0.0491</td> <td>0.5454</td> <td>-0.1176</td> <td>0.0194</td>   <td>False</td>\n",
       "</tr>\n",
       "<tr>\n",
       "    <td>HZ University of Applied Sciences</td>  <td>NHTV internationale hogeschool Breda</td>  <td>-0.0494</td> <td>0.7715</td> <td>-0.1292</td> <td>0.0304</td>   <td>False</td>\n",
       "</tr>\n",
       "<tr>\n",
       "    <td>HZ University of Applied Sciences</td>            <td>Saxion Hogeschool</td>           <td>-0.1691</td>  <td>0.001</td> <td>-0.2313</td> <td>-0.1068</td>  <td>True</td> \n",
       "</tr>\n",
       "<tr>\n",
       "    <td>HZ University of Applied Sciences</td>           <td>Stenden Hogeschool</td>           <td>-0.0616</td> <td>0.2035</td> <td>-0.1331</td> <td>0.0099</td>   <td>False</td>\n",
       "</tr>\n",
       "<tr>\n",
       "    <td>HZ University of Applied Sciences</td>             <td>Zuyd Hogeschool</td>            <td>-0.2028</td>  <td>0.001</td> <td>-0.2692</td> <td>-0.1364</td>  <td>True</td> \n",
       "</tr>\n",
       "<tr>\n",
       "        <td>Hanzehogeschool Groningen</td>              <td>Hogeschool INHOLLAND</td>          <td>-0.1033</td>  <td>0.001</td> <td>-0.1436</td> <td>-0.063</td>   <td>True</td> \n",
       "</tr>\n",
       "<tr>\n",
       "        <td>Hanzehogeschool Groningen</td>                <td>Hogeschool Leiden</td>           <td>-0.2084</td>  <td>0.001</td> <td>-0.259</td>  <td>-0.1578</td>  <td>True</td> \n",
       "</tr>\n",
       "<tr>\n",
       "        <td>Hanzehogeschool Groningen</td>              <td>Hogeschool Rotterdam</td>          <td>-0.1232</td>  <td>0.001</td> <td>-0.1593</td> <td>-0.0872</td>  <td>True</td> \n",
       "</tr>\n",
       "<tr>\n",
       "        <td>Hanzehogeschool Groningen</td>               <td>Hogeschool Utrecht</td>           <td>-0.1198</td>  <td>0.001</td> <td>-0.1574</td> <td>-0.0821</td>  <td>True</td> \n",
       "</tr>\n",
       "<tr>\n",
       "        <td>Hanzehogeschool Groningen</td>         <td>Hogeschool Van Hall Larenstein</td>     <td>-0.1912</td>  <td>0.001</td> <td>-0.2614</td> <td>-0.121</td>   <td>True</td> \n",
       "</tr>\n",
       "<tr>\n",
       "        <td>Hanzehogeschool Groningen</td>            <td>Hogeschool van Amsterdam</td>        <td>-0.2478</td>  <td>0.001</td> <td>-0.2829</td> <td>-0.2128</td>  <td>True</td> \n",
       "</tr>\n",
       "<tr>\n",
       "        <td>Hanzehogeschool Groningen</td>        <td>Hogeschool van Arnhem en Nijmegen</td>   <td>-0.0756</td>  <td>0.001</td> <td>-0.111</td>  <td>-0.0402</td>  <td>True</td> \n",
       "</tr>\n",
       "<tr>\n",
       "        <td>Hanzehogeschool Groningen</td>                 <td>NHL Hogeschool</td>             <td>0.0859</td>   <td>0.001</td> <td>0.0377</td>   <td>0.134</td>   <td>True</td> \n",
       "</tr>\n",
       "<tr>\n",
       "        <td>Hanzehogeschool Groningen</td>      <td>NHTV internationale hogeschool Breda</td>  <td>0.0855</td>   <td>0.001</td> <td>0.0223</td>  <td>0.1487</td>   <td>True</td> \n",
       "</tr>\n",
       "<tr>\n",
       "        <td>Hanzehogeschool Groningen</td>                <td>Saxion Hogeschool</td>           <td>-0.0341</td> <td>0.1696</td> <td>-0.0728</td> <td>0.0045</td>   <td>False</td>\n",
       "</tr>\n",
       "<tr>\n",
       "        <td>Hanzehogeschool Groningen</td>               <td>Stenden Hogeschool</td>           <td>0.0733</td>   <td>0.001</td> <td>0.0211</td>  <td>0.1256</td>   <td>True</td> \n",
       "</tr>\n",
       "<tr>\n",
       "        <td>Hanzehogeschool Groningen</td>                 <td>Zuyd Hogeschool</td>            <td>-0.0678</td>  <td>0.001</td> <td>-0.113</td>  <td>-0.0227</td>  <td>True</td> \n",
       "</tr>\n",
       "<tr>\n",
       "          <td>Hogeschool INHOLLAND</td>                   <td>Hogeschool Leiden</td>           <td>-0.1051</td>  <td>0.001</td> <td>-0.1582</td> <td>-0.052</td>   <td>True</td> \n",
       "</tr>\n",
       "<tr>\n",
       "          <td>Hogeschool INHOLLAND</td>                 <td>Hogeschool Rotterdam</td>          <td>-0.0199</td>   <td>0.9</td>  <td>-0.0594</td> <td>0.0195</td>   <td>False</td>\n",
       "</tr>\n",
       "<tr>\n",
       "          <td>Hogeschool INHOLLAND</td>                  <td>Hogeschool Utrecht</td>           <td>-0.0165</td>   <td>0.9</td>  <td>-0.0574</td> <td>0.0245</td>   <td>False</td>\n",
       "</tr>\n",
       "<tr>\n",
       "          <td>Hogeschool INHOLLAND</td>            <td>Hogeschool Van Hall Larenstein</td>     <td>-0.0879</td> <td>0.0026</td>  <td>-0.16</td>  <td>-0.0158</td>  <td>True</td> \n",
       "</tr>\n",
       "<tr>\n",
       "          <td>Hogeschool INHOLLAND</td>               <td>Hogeschool van Amsterdam</td>        <td>-0.1446</td>  <td>0.001</td> <td>-0.1831</td> <td>-0.106</td>   <td>True</td> \n",
       "</tr>\n",
       "<tr>\n",
       "          <td>Hogeschool INHOLLAND</td>           <td>Hogeschool van Arnhem en Nijmegen</td>   <td>0.0277</td>  <td>0.5565</td> <td>-0.0112</td> <td>0.0666</td>   <td>False</td>\n",
       "</tr>\n",
       "<tr>\n",
       "          <td>Hogeschool INHOLLAND</td>                    <td>NHL Hogeschool</td>             <td>0.1892</td>   <td>0.001</td> <td>0.1384</td>  <td>0.2399</td>   <td>True</td> \n",
       "</tr>\n",
       "<tr>\n",
       "          <td>Hogeschool INHOLLAND</td>         <td>NHTV internationale hogeschool Breda</td>  <td>0.1888</td>   <td>0.001</td> <td>0.1236</td>   <td>0.254</td>   <td>True</td> \n",
       "</tr>\n",
       "<tr>\n",
       "          <td>Hogeschool INHOLLAND</td>                   <td>Saxion Hogeschool</td>           <td>0.0692</td>   <td>0.001</td> <td>0.0273</td>  <td>0.1111</td>   <td>True</td> \n",
       "</tr>\n",
       "<tr>\n",
       "          <td>Hogeschool INHOLLAND</td>                  <td>Stenden Hogeschool</td>           <td>0.1766</td>   <td>0.001</td> <td>0.1219</td>  <td>0.2313</td>   <td>True</td> \n",
       "</tr>\n",
       "<tr>\n",
       "          <td>Hogeschool INHOLLAND</td>                    <td>Zuyd Hogeschool</td>            <td>0.0355</td>  <td>0.4891</td> <td>-0.0124</td> <td>0.0834</td>   <td>False</td>\n",
       "</tr>\n",
       "<tr>\n",
       "            <td>Hogeschool Leiden</td>                  <td>Hogeschool Rotterdam</td>          <td>0.0852</td>   <td>0.001</td> <td>0.0352</td>  <td>0.1351</td>   <td>True</td> \n",
       "</tr>\n",
       "<tr>\n",
       "            <td>Hogeschool Leiden</td>                   <td>Hogeschool Utrecht</td>           <td>0.0886</td>   <td>0.001</td> <td>0.0375</td>  <td>0.1397</td>   <td>True</td> \n",
       "</tr>\n",
       "<tr>\n",
       "            <td>Hogeschool Leiden</td>             <td>Hogeschool Van Hall Larenstein</td>     <td>0.0172</td>    <td>0.9</td>  <td>-0.0611</td> <td>0.0955</td>   <td>False</td>\n",
       "</tr>\n",
       "<tr>\n",
       "            <td>Hogeschool Leiden</td>                <td>Hogeschool van Amsterdam</td>        <td>-0.0395</td> <td>0.3258</td> <td>-0.0886</td> <td>0.0097</td>   <td>False</td>\n",
       "</tr>\n",
       "<tr>\n",
       "            <td>Hogeschool Leiden</td>            <td>Hogeschool van Arnhem en Nijmegen</td>   <td>0.1328</td>   <td>0.001</td> <td>0.0833</td>  <td>0.1822</td>   <td>True</td> \n",
       "</tr>\n",
       "<tr>\n",
       "            <td>Hogeschool Leiden</td>                     <td>NHL Hogeschool</td>             <td>0.2943</td>   <td>0.001</td>  <td>0.235</td>  <td>0.3535</td>   <td>True</td> \n",
       "</tr>\n",
       "<tr>\n",
       "            <td>Hogeschool Leiden</td>          <td>NHTV internationale hogeschool Breda</td>  <td>0.2939</td>   <td>0.001</td> <td>0.2219</td>  <td>0.3659</td>   <td>True</td> \n",
       "</tr>\n",
       "<tr>\n",
       "            <td>Hogeschool Leiden</td>                    <td>Saxion Hogeschool</td>           <td>0.1743</td>   <td>0.001</td> <td>0.1224</td>  <td>0.2261</td>   <td>True</td> \n",
       "</tr>\n",
       "<tr>\n",
       "            <td>Hogeschool Leiden</td>                   <td>Stenden Hogeschool</td>           <td>0.2817</td>   <td>0.001</td> <td>0.2191</td>  <td>0.3444</td>   <td>True</td> \n",
       "</tr>\n",
       "<tr>\n",
       "            <td>Hogeschool Leiden</td>                     <td>Zuyd Hogeschool</td>            <td>0.1406</td>   <td>0.001</td> <td>0.0837</td>  <td>0.1974</td>   <td>True</td> \n",
       "</tr>\n",
       "<tr>\n",
       "          <td>Hogeschool Rotterdam</td>                  <td>Hogeschool Utrecht</td>           <td>0.0034</td>    <td>0.9</td>  <td>-0.0333</td> <td>0.0402</td>   <td>False</td>\n",
       "</tr>\n",
       "<tr>\n",
       "          <td>Hogeschool Rotterdam</td>            <td>Hogeschool Van Hall Larenstein</td>     <td>-0.068</td>  <td>0.0675</td> <td>-0.1377</td> <td>0.0018</td>   <td>False</td>\n",
       "</tr>\n",
       "<tr>\n",
       "          <td>Hogeschool Rotterdam</td>               <td>Hogeschool van Amsterdam</td>        <td>-0.1246</td>  <td>0.001</td> <td>-0.1587</td> <td>-0.0906</td>  <td>True</td> \n",
       "</tr>\n",
       "<tr>\n",
       "          <td>Hogeschool Rotterdam</td>           <td>Hogeschool van Arnhem en Nijmegen</td>   <td>0.0476</td>   <td>0.001</td> <td>0.0132</td>  <td>0.0821</td>   <td>True</td> \n",
       "</tr>\n",
       "<tr>\n",
       "          <td>Hogeschool Rotterdam</td>                    <td>NHL Hogeschool</td>             <td>0.2091</td>   <td>0.001</td> <td>0.1617</td>  <td>0.2566</td>   <td>True</td> \n",
       "</tr>\n",
       "<tr>\n",
       "          <td>Hogeschool Rotterdam</td>         <td>NHTV internationale hogeschool Breda</td>  <td>0.2087</td>   <td>0.001</td> <td>0.1461</td>  <td>0.2714</td>   <td>True</td> \n",
       "</tr>\n",
       "<tr>\n",
       "          <td>Hogeschool Rotterdam</td>                   <td>Saxion Hogeschool</td>           <td>0.0891</td>   <td>0.001</td> <td>0.0513</td>  <td>0.1269</td>   <td>True</td> \n",
       "</tr>\n",
       "<tr>\n",
       "          <td>Hogeschool Rotterdam</td>                  <td>Stenden Hogeschool</td>           <td>0.1966</td>   <td>0.001</td> <td>0.1449</td>  <td>0.2482</td>   <td>True</td> \n",
       "</tr>\n",
       "<tr>\n",
       "          <td>Hogeschool Rotterdam</td>                    <td>Zuyd Hogeschool</td>            <td>0.0554</td>  <td>0.0016</td>  <td>0.011</td>  <td>0.0998</td>   <td>True</td> \n",
       "</tr>\n",
       "<tr>\n",
       "           <td>Hogeschool Utrecht</td>             <td>Hogeschool Van Hall Larenstein</td>     <td>-0.0714</td> <td>0.0439</td> <td>-0.142</td>  <td>-0.0008</td>  <td>True</td> \n",
       "</tr>\n",
       "<tr>\n",
       "           <td>Hogeschool Utrecht</td>                <td>Hogeschool van Amsterdam</td>        <td>-0.1281</td>  <td>0.001</td> <td>-0.1638</td> <td>-0.0923</td>  <td>True</td> \n",
       "</tr>\n",
       "<tr>\n",
       "           <td>Hogeschool Utrecht</td>            <td>Hogeschool van Arnhem en Nijmegen</td>   <td>0.0442</td>  <td>0.0025</td>  <td>0.008</td>  <td>0.0803</td>   <td>True</td> \n",
       "</tr>\n",
       "<tr>\n",
       "           <td>Hogeschool Utrecht</td>                     <td>NHL Hogeschool</td>             <td>0.2057</td>   <td>0.001</td>  <td>0.157</td>  <td>0.2543</td>   <td>True</td> \n",
       "</tr>\n",
       "<tr>\n",
       "           <td>Hogeschool Utrecht</td>          <td>NHTV internationale hogeschool Breda</td>  <td>0.2053</td>   <td>0.001</td> <td>0.1417</td>  <td>0.2689</td>   <td>True</td> \n",
       "</tr>\n",
       "<tr>\n",
       "           <td>Hogeschool Utrecht</td>                    <td>Saxion Hogeschool</td>           <td>0.0857</td>   <td>0.001</td> <td>0.0463</td>   <td>0.125</td>   <td>True</td> \n",
       "</tr>\n",
       "<tr>\n",
       "           <td>Hogeschool Utrecht</td>                   <td>Stenden Hogeschool</td>           <td>0.1931</td>   <td>0.001</td> <td>0.1404</td>  <td>0.2459</td>   <td>True</td> \n",
       "</tr>\n",
       "<tr>\n",
       "           <td>Hogeschool Utrecht</td>                     <td>Zuyd Hogeschool</td>            <td>0.0519</td>  <td>0.0087</td> <td>0.0062</td>  <td>0.0976</td>   <td>True</td> \n",
       "</tr>\n",
       "<tr>\n",
       "     <td>Hogeschool Van Hall Larenstein</td>          <td>Hogeschool van Amsterdam</td>        <td>-0.0567</td> <td>0.2904</td> <td>-0.1259</td> <td>0.0126</td>   <td>False</td>\n",
       "</tr>\n",
       "<tr>\n",
       "     <td>Hogeschool Van Hall Larenstein</td>      <td>Hogeschool van Arnhem en Nijmegen</td>   <td>0.1156</td>   <td>0.001</td> <td>0.0461</td>   <td>0.185</td>   <td>True</td> \n",
       "</tr>\n",
       "<tr>\n",
       "     <td>Hogeschool Van Hall Larenstein</td>               <td>NHL Hogeschool</td>             <td>0.2771</td>   <td>0.001</td> <td>0.2003</td>  <td>0.3538</td>   <td>True</td> \n",
       "</tr>\n",
       "<tr>\n",
       "     <td>Hogeschool Van Hall Larenstein</td>    <td>NHTV internationale hogeschool Breda</td>  <td>0.2767</td>   <td>0.001</td> <td>0.1898</td>  <td>0.3636</td>   <td>True</td> \n",
       "</tr>\n",
       "<tr>\n",
       "     <td>Hogeschool Van Hall Larenstein</td>              <td>Saxion Hogeschool</td>           <td>0.1571</td>   <td>0.001</td> <td>0.0859</td>  <td>0.2282</td>   <td>True</td> \n",
       "</tr>\n",
       "<tr>\n",
       "     <td>Hogeschool Van Hall Larenstein</td>             <td>Stenden Hogeschool</td>           <td>0.2645</td>   <td>0.001</td> <td>0.1852</td>  <td>0.3439</td>   <td>True</td> \n",
       "</tr>\n",
       "<tr>\n",
       "     <td>Hogeschool Van Hall Larenstein</td>               <td>Zuyd Hogeschool</td>            <td>0.1234</td>   <td>0.001</td> <td>0.0485</td>  <td>0.1982</td>   <td>True</td> \n",
       "</tr>\n",
       "<tr>\n",
       "        <td>Hogeschool van Amsterdam</td>         <td>Hogeschool van Arnhem en Nijmegen</td>   <td>0.1722</td>   <td>0.001</td> <td>0.1389</td>  <td>0.2056</td>   <td>True</td> \n",
       "</tr>\n",
       "<tr>\n",
       "        <td>Hogeschool van Amsterdam</td>                  <td>NHL Hogeschool</td>             <td>0.3337</td>   <td>0.001</td> <td>0.2871</td>  <td>0.3804</td>   <td>True</td> \n",
       "</tr>\n",
       "<tr>\n",
       "        <td>Hogeschool van Amsterdam</td>       <td>NHTV internationale hogeschool Breda</td>  <td>0.3334</td>   <td>0.001</td> <td>0.2713</td>  <td>0.3954</td>   <td>True</td> \n",
       "</tr>\n",
       "<tr>\n",
       "        <td>Hogeschool van Amsterdam</td>                 <td>Saxion Hogeschool</td>           <td>0.2137</td>   <td>0.001</td> <td>0.1769</td>  <td>0.2505</td>   <td>True</td> \n",
       "</tr>\n",
       "<tr>\n",
       "        <td>Hogeschool van Amsterdam</td>                <td>Stenden Hogeschool</td>           <td>0.3212</td>   <td>0.001</td> <td>0.2703</td>  <td>0.3721</td>   <td>True</td> \n",
       "</tr>\n",
       "<tr>\n",
       "        <td>Hogeschool van Amsterdam</td>                  <td>Zuyd Hogeschool</td>             <td>0.18</td>    <td>0.001</td> <td>0.1365</td>  <td>0.2235</td>   <td>True</td> \n",
       "</tr>\n",
       "<tr>\n",
       "    <td>Hogeschool van Arnhem en Nijmegen</td>             <td>NHL Hogeschool</td>             <td>0.1615</td>   <td>0.001</td> <td>0.1145</td>  <td>0.2085</td>   <td>True</td> \n",
       "</tr>\n",
       "<tr>\n",
       "    <td>Hogeschool van Arnhem en Nijmegen</td>  <td>NHTV internationale hogeschool Breda</td>  <td>0.1611</td>   <td>0.001</td> <td>0.0988</td>  <td>0.2234</td>   <td>True</td> \n",
       "</tr>\n",
       "<tr>\n",
       "    <td>Hogeschool van Arnhem en Nijmegen</td>            <td>Saxion Hogeschool</td>           <td>0.0415</td>  <td>0.0117</td> <td>0.0043</td>  <td>0.0787</td>   <td>True</td> \n",
       "</tr>\n",
       "<tr>\n",
       "    <td>Hogeschool van Arnhem en Nijmegen</td>           <td>Stenden Hogeschool</td>            <td>0.149</td>   <td>0.001</td> <td>0.0978</td>  <td>0.2002</td>   <td>True</td> \n",
       "</tr>\n",
       "<tr>\n",
       "    <td>Hogeschool van Arnhem en Nijmegen</td>             <td>Zuyd Hogeschool</td>            <td>0.0078</td>    <td>0.9</td>  <td>-0.0361</td> <td>0.0516</td>   <td>False</td>\n",
       "</tr>\n",
       "<tr>\n",
       "             <td>NHL Hogeschool</td>            <td>NHTV internationale hogeschool Breda</td>  <td>-0.0004</td>   <td>0.9</td>  <td>-0.0707</td> <td>0.0699</td>   <td>False</td>\n",
       "</tr>\n",
       "<tr>\n",
       "             <td>NHL Hogeschool</td>                      <td>Saxion Hogeschool</td>            <td>-0.12</td>   <td>0.001</td> <td>-0.1695</td> <td>-0.0705</td>  <td>True</td> \n",
       "</tr>\n",
       "<tr>\n",
       "             <td>NHL Hogeschool</td>                     <td>Stenden Hogeschool</td>           <td>-0.0125</td>   <td>0.9</td>  <td>-0.0732</td> <td>0.0482</td>   <td>False</td>\n",
       "</tr>\n",
       "<tr>\n",
       "             <td>NHL Hogeschool</td>                       <td>Zuyd Hogeschool</td>            <td>-0.1537</td>  <td>0.001</td> <td>-0.2084</td> <td>-0.0991</td>  <td>True</td> \n",
       "</tr>\n",
       "<tr>\n",
       "  <td>NHTV internationale hogeschool Breda</td>           <td>Saxion Hogeschool</td>           <td>-0.1196</td>  <td>0.001</td> <td>-0.1838</td> <td>-0.0554</td>  <td>True</td> \n",
       "</tr>\n",
       "<tr>\n",
       "  <td>NHTV internationale hogeschool Breda</td>          <td>Stenden Hogeschool</td>           <td>-0.0122</td>   <td>0.9</td>  <td>-0.0854</td>  <td>0.061</td>   <td>False</td>\n",
       "</tr>\n",
       "<tr>\n",
       "  <td>NHTV internationale hogeschool Breda</td>            <td>Zuyd Hogeschool</td>            <td>-0.1533</td>  <td>0.001</td> <td>-0.2216</td> <td>-0.0851</td>  <td>True</td> \n",
       "</tr>\n",
       "<tr>\n",
       "            <td>Saxion Hogeschool</td>                   <td>Stenden Hogeschool</td>           <td>0.1075</td>   <td>0.001</td>  <td>0.054</td>   <td>0.161</td>   <td>True</td> \n",
       "</tr>\n",
       "<tr>\n",
       "            <td>Saxion Hogeschool</td>                     <td>Zuyd Hogeschool</td>            <td>-0.0337</td> <td>0.5266</td> <td>-0.0802</td> <td>0.0128</td>   <td>False</td>\n",
       "</tr>\n",
       "<tr>\n",
       "           <td>Stenden Hogeschool</td>                     <td>Zuyd Hogeschool</td>            <td>-0.1412</td>  <td>0.001</td> <td>-0.1995</td> <td>-0.0828</td>  <td>True</td> \n",
       "</tr>\n",
       "</table>"
      ],
      "text/plain": [
       "<class 'statsmodels.iolib.table.SimpleTable'>"
      ]
     },
     "execution_count": 43,
     "metadata": {},
     "output_type": "execute_result"
    },
    {
     "data": {
      "image/png": "[encoded data removed]",
      "text/plain": [
       "<Figure size 720x432 with 1 Axes>"
      ]
     },
     "metadata": {
      "needs_background": "light"
     },
     "output_type": "display_data"
    }
   ],
   "source": [
    "from statsmodels.stats.multicomp import pairwise_tukeyhsd\n",
    "import scipy.stats as stats\n",
    "\n",
    "tukey = pairwise_tukeyhsd(endog=hbo_vt_2018.dropna(subset=['Haalbaarheid']).Haalbaarheid,     # Data\n",
    "                          groups=hbo_vt_2018.dropna(subset=['Haalbaarheid'])['BrinNaamActueel'],   # Groups\n",
    "                          alpha=0.05)          # Significance level\n",
    "\n",
    "tk = tukey.plot_simultaneous()    # Plot group confidence intervals\n",
    "\n",
    "tukey.summary()"
   ]
  },
  {
   "cell_type": "code",
   "execution_count": null,
   "metadata": {},
   "outputs": [],
   "source": []
  }
 ],
 "metadata": {
  "kernelspec": {
   "display_name": "Python [conda env:analytics] *",
   "language": "python",
   "name": "conda-env-analytics-py"
  },
  "language_info": {
   "codemirror_mode": {
    "name": "ipython",
    "version": 3
   },
   "file_extension": ".py",
   "mimetype": "text/x-python",
   "name": "python",
   "nbconvert_exporter": "python",
   "pygments_lexer": "ipython3",
   "version": "3.6.9"
  }
 },
 "nbformat": 4,
 "nbformat_minor": 4
}
