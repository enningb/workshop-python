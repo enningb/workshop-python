{
 "cells": [
  {
   "cell_type": "markdown",
   "metadata": {},
   "source": [
    "# Hoe werkt geocoderen?\n",
    "\n",
    "Geocoderen is het toevoegen van locatie-gegevens (longitude, latitude) aan plaatsen. Google biedt een dienst die je een zoekterm kan geven en dan krijg je als antwoord locatiegegevens. Het lijkt op wat je bij Google Maps doet als je in je browser een pizzeria zoekt. Je zoekt op 'pizzeria amsterdam' en je krijgt een aantal suggesties, inclusief waar die zich bevinden. Hieronder wordt aan Google Maps gevraagd om meer informatie over een zoekterm. Een klein voorbeeld van hoe het werkt.\n",
    "\n",
    "\n",
    "## Voorbereiding\n",
    "Je hebt googlemaps nodig, een python-module. En een API-key van Google. Op https://github.com/googlemaps/google-maps-services-python staat beschreven hoe je aan een API-key kan komen. Je hebt daarvoor een Google-account nodig maar de eerste verzoeken zijn gratis (boven de limiet kost het geld)."
   ]
  },
  {
   "cell_type": "code",
   "execution_count": null,
   "metadata": {},
   "outputs": [],
   "source": [
    "import googlemaps"
   ]
  },
  {
   "cell_type": "markdown",
   "metadata": {},
   "source": [
    "Hieronder maken we een zoekterm die we aan Google willen sturen."
   ]
  },
  {
   "cell_type": "code",
   "execution_count": null,
   "metadata": {},
   "outputs": [],
   "source": [
    "zoekterm = 'Ajax'"
   ]
  },
  {
   "cell_type": "markdown",
   "metadata": {},
   "source": [
    "Nu kunnen we aan Google vragen wat ze daar weten over de Fundatie. Dat doe je door eerst je key te geven, en dan de vraag aan Google te stellen. We stoppen het antwoord meteen in een variabele 'antwoord'\n",
    "\n",
    "Hieronder staat nu nog mijn key, daar moet natuurlijk je eigen key komen te staan, maar voorlopig mag je m lenen."
   ]
  },
  {
   "cell_type": "code",
   "execution_count": null,
   "metadata": {},
   "outputs": [],
   "source": [
    "api_key= google_api_key\n",
    "gmaps = googlemaps.Client(key=google_api_key)\n",
    "\n",
    "# Stel de vraag aan Google en sla het antwoord op in een variabele:\n",
    "antwoord_van_google = gmaps.places(zoekterm)"
   ]
  },
  {
   "cell_type": "markdown",
   "metadata": {},
   "source": [
    "Je hebt nu een variabele 'antwoord_van_google' Hieronder zul je zien dat het antwoord van Google een 'dictionary' oplevert. "
   ]
  },
  {
   "cell_type": "code",
   "execution_count": null,
   "metadata": {},
   "outputs": [],
   "source": [
    "antwoord_van_google"
   ]
  },
  {
   "cell_type": "markdown",
   "metadata": {},
   "source": [
    "Het zoekresultaat levert meerdere resultaten op. De eerste is:"
   ]
  },
  {
   "cell_type": "code",
   "execution_count": null,
   "metadata": {},
   "outputs": [],
   "source": [
    "antwoord_van_google['results'][0]['name']"
   ]
  },
  {
   "cell_type": "markdown",
   "metadata": {},
   "source": [
    "de tweede is:"
   ]
  },
  {
   "cell_type": "code",
   "execution_count": null,
   "metadata": {},
   "outputs": [],
   "source": [
    "antwoord_van_google['results'][1]['name']"
   ]
  },
  {
   "cell_type": "markdown",
   "metadata": {},
   "source": [
    "We kiezen voor een pragmatische aanpak als we gaan automatiseren, en nemen altijd het eerste zoekresultaat. Dat levert natuurlijk niet altijd de juiste resultaten op. Dat is een beperking die je steekproefsgewijs op.We vissen die velden uit het antwoord die we nodig hebben."
   ]
  },
  {
   "cell_type": "markdown",
   "metadata": {},
   "source": [
    "Per resultaat zijn er een aantal gegevens beschikbaar, zoals adres en lengte- en breedtegraden."
   ]
  },
  {
   "cell_type": "markdown",
   "metadata": {},
   "source": [
    "# Automatisch toevoegen van informatie Google\n",
    "\n",
    "Hieronder wordt per regel in een tabel informatie op Google gezocht, waarden uit het antwoord gevist en toegevoegd aan de tabel."
   ]
  },
  {
   "cell_type": "code",
   "execution_count": null,
   "metadata": {},
   "outputs": [],
   "source": [
    "def get_name_location_address( zoekterm\n",
    "                              , google_api_key=google_api_key):\n",
    "    # initialiseer googlemaps\n",
    "    gmaps = googlemaps.Client(key=google_api_key)\n",
    "    # een \n",
    "    result=pd.Series()\n",
    "    # haal het antwoord op:\n",
    "    antwoord = gmaps.places(zoekterm, language='nl')\n",
    "    result['StatusGoogle'] = antwoord['status']\n",
    "    if antwoord['status'] =='ZERO_RESULTS':\n",
    "        return None\n",
    "    else:\n",
    "        result['id']=antwoord['results'][0]['id']\n",
    "        result['naam']=antwoord['results'][0]['name']\n",
    "        result['latitude']=antwoord['results'][0]['geometry']['location']['lat']\n",
    "        result['longitude']=antwoord['results'][0]['geometry']['location']['lng']\n",
    "        result['adres']=antwoord['results'][0]['formatted_address']\n",
    "\n",
    "    return result"
   ]
  },
  {
   "cell_type": "code",
   "execution_count": null,
   "metadata": {},
   "outputs": [],
   "source": [
    "get_name_location_address('inholland, haarlem')"
   ]
  },
  {
   "cell_type": "markdown",
   "metadata": {
    "jupyter": {
     "outputs_hidden": true
    }
   },
   "source": [
    "Stel we hebben een lijstje met plaatsen die we 'door Google' willen halen"
   ]
  },
  {
   "cell_type": "code",
   "execution_count": null,
   "metadata": {},
   "outputs": [],
   "source": [
    "inholland_vestigingen = ['inholland, haarlem','inholland, den haag', 'inholland, diemen','inholland, maastricht']"
   ]
  },
  {
   "cell_type": "code",
   "execution_count": null,
   "metadata": {},
   "outputs": [],
   "source": [
    "for vestiging in inholland_vestigingen:\n",
    "    vestigingsinfo = get_name_location_address(vestiging)\n",
    "    print(vestigingsinfo)"
   ]
  },
  {
   "cell_type": "code",
   "execution_count": null,
   "metadata": {},
   "outputs": [],
   "source": []
  }
 ],
 "metadata": {
  "hide_input": false,
  "kernelspec": {
   "display_name": "Python 3",
   "language": "python",
   "name": "python3"
  },
  "language_info": {
   "codemirror_mode": {
    "name": "ipython",
    "version": 3
   },
   "file_extension": ".py",
   "mimetype": "text/x-python",
   "name": "python",
   "nbconvert_exporter": "python",
   "pygments_lexer": "ipython3",
   "version": "3.6.9"
  },
  "toc": {
   "toc_cell": false,
   "toc_number_sections": true,
   "toc_threshold": 4,
   "toc_window_display": false
  },
  "varInspector": {
   "cols": {
    "lenName": 16,
    "lenType": 16,
    "lenVar": 40
   },
   "kernels_config": {
    "python": {
     "delete_cmd_postfix": "",
     "delete_cmd_prefix": "del ",
     "library": "var_list.py",
     "varRefreshCmd": "print(var_dic_list())"
    },
    "r": {
     "delete_cmd_postfix": ") ",
     "delete_cmd_prefix": "rm(",
     "library": "var_list.r",
     "varRefreshCmd": "cat(var_dic_list()) "
    }
   },
   "types_to_exclude": [
    "module",
    "function",
    "builtin_function_or_method",
    "instance",
    "_Feature"
   ],
   "window_display": false
  }
 },
 "nbformat": 4,
 "nbformat_minor": 4
}
